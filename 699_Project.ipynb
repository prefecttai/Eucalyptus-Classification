{
  "cells": [
    {
      "cell_type": "markdown",
      "metadata": {
        "id": "view-in-github",
        "colab_type": "text"
      },
      "source": [
        "<a href=\"https://colab.research.google.com/github/prefecttai/Eucalyptus-Classification/blob/main/699_Project.ipynb\" target=\"_parent\"><img src=\"https://colab.research.google.com/assets/colab-badge.svg\" alt=\"Open In Colab\"/></a>"
      ]
    },
    {
      "cell_type": "markdown",
      "metadata": {
        "id": "27VNc3h09kxG"
      },
      "source": [
        "# Install packages"
      ]
    },
    {
      "cell_type": "code",
      "execution_count": null,
      "metadata": {
        "colab": {
          "background_save": true
        },
        "id": "lPOrLFytijp8"
      },
      "outputs": [],
      "source": [
        "install.packages(\"FSelector\")\n",
        "install.packages(\"e1071\")\n",
        "install.packages(\"caret\")\n",
        "install.packages('glmnet')\n",
        "install.packages(\"caTools\")\n",
        "install.packages(\"class\")\n",
        "install.packages(\"randomForest\")\n",
        "install.packages(\"RRF\")\n",
        "install.packages(\"mlbench\")\n",
        "install.packages(\"pROC\")\n",
        "install.packages(\"MLmetrics\")\n",
        "install.packages(\"kernlab\")\n",
        "install.packages(\"ggplot2\")"
      ]
    },
    {
      "cell_type": "markdown",
      "metadata": {
        "id": "oP6FqTABKi-3"
      },
      "source": [
        "# Call library() packages"
      ]
    },
    {
      "cell_type": "code",
      "execution_count": null,
      "metadata": {
        "id": "9Tma1Mhvx6yZ"
      },
      "outputs": [],
      "source": [
        "library(rpart)\n",
        "library(FSelector)\n",
        "library(dplyr)\n",
        "library(e1071)\n",
        "library(caret)\n",
        "library(mlbench)\n",
        "library(glmnet)\n",
        "library(class)\n",
        "library(caTools)\n",
        "library(randomForest)\n",
        "library(RRF)\n",
        "library(pROC)\n",
        "library(MLmetrics)\n",
        "library(kernlab)\n",
        "library(ggplot2)"
      ]
    },
    {
      "cell_type": "markdown",
      "metadata": {
        "id": "CuUcL6dE9vUg"
      },
      "source": [
        "# Read dataset & rename columns"
      ]
    },
    {
      "cell_type": "code",
      "execution_count": null,
      "metadata": {
        "colab": {
          "base_uri": "https://localhost:8080/"
        },
        "collapsed": true,
        "id": "Ug-rnMXRHauo",
        "outputId": "065b0f2a-1098-4c76-de82-bf196bc47a89"
      },
      "outputs": [
        {
          "data": {
            "text/html": [
              "736"
            ],
            "text/latex": "736",
            "text/markdown": "736",
            "text/plain": [
              "[1] 736"
            ]
          },
          "metadata": {},
          "output_type": "display_data"
        },
        {
          "data": {
            "text/html": [
              "20"
            ],
            "text/latex": "20",
            "text/markdown": "20",
            "text/plain": [
              "[1] 20"
            ]
          },
          "metadata": {},
          "output_type": "display_data"
        },
        {
          "data": {
            "text/html": [
              "<table class=\"dataframe\">\n",
              "<caption>A data.frame: 6 × 20</caption>\n",
              "<thead>\n",
              "\t<tr><th></th><th scope=col>Abbrev</th><th scope=col>Rep</th><th scope=col>Locality</th><th scope=col>Map_Ref</th><th scope=col>Latitude</th><th scope=col>Altitude</th><th scope=col>Rainfall</th><th scope=col>Frosts</th><th scope=col>Year</th><th scope=col>Sp</th><th scope=col>PMCno</th><th scope=col>DBH</th><th scope=col>Ht</th><th scope=col>Surv</th><th scope=col>Vig</th><th scope=col>Ins_res</th><th scope=col>Stem_Fm</th><th scope=col>Crown_Fm</th><th scope=col>Brnch_Fm</th><th scope=col>Utility</th></tr>\n",
              "\t<tr><th></th><th scope=col>&lt;chr&gt;</th><th scope=col>&lt;int&gt;</th><th scope=col>&lt;chr&gt;</th><th scope=col>&lt;chr&gt;</th><th scope=col>&lt;chr&gt;</th><th scope=col>&lt;int&gt;</th><th scope=col>&lt;int&gt;</th><th scope=col>&lt;int&gt;</th><th scope=col>&lt;int&gt;</th><th scope=col>&lt;chr&gt;</th><th scope=col>&lt;chr&gt;</th><th scope=col>&lt;chr&gt;</th><th scope=col>&lt;chr&gt;</th><th scope=col>&lt;chr&gt;</th><th scope=col>&lt;chr&gt;</th><th scope=col>&lt;chr&gt;</th><th scope=col>&lt;chr&gt;</th><th scope=col>&lt;chr&gt;</th><th scope=col>&lt;chr&gt;</th><th scope=col>&lt;chr&gt;</th></tr>\n",
              "</thead>\n",
              "<tbody>\n",
              "\t<tr><th scope=row>1</th><td>Cra</td><td>1</td><td>Central_Hawkes_Bay</td><td>N135_382/137</td><td>39__38</td><td>100</td><td>850</td><td>-2</td><td>1980</td><td>co</td><td>1520</td><td>18.45</td><td>9.96 </td><td>40</td><td>4  </td><td>3  </td><td>3.5</td><td>4  </td><td>3.5</td><td>good</td></tr>\n",
              "\t<tr><th scope=row>2</th><td>Cra</td><td>1</td><td>Central_Hawkes_Bay</td><td>N135_382/137</td><td>39__38</td><td>100</td><td>850</td><td>-2</td><td>1980</td><td>fr</td><td>1487</td><td>13.15</td><td>9.65 </td><td>90</td><td>4.5</td><td>4  </td><td>3.5</td><td>3.5</td><td>3  </td><td>best</td></tr>\n",
              "\t<tr><th scope=row>3</th><td>Cra</td><td>1</td><td>Central_Hawkes_Bay</td><td>N135_382/137</td><td>39__38</td><td>100</td><td>850</td><td>-2</td><td>1980</td><td>ma</td><td>1362</td><td>10.32</td><td>6.5  </td><td>50</td><td>2.3</td><td>2.5</td><td>3  </td><td>3.5</td><td>3  </td><td>low </td></tr>\n",
              "\t<tr><th scope=row>4</th><td>Cra</td><td>1</td><td>Central_Hawkes_Bay</td><td>N135_382/137</td><td>39__38</td><td>100</td><td>850</td><td>-2</td><td>1980</td><td>nd</td><td>1596</td><td>14.8 </td><td>9.48 </td><td>70</td><td>3.7</td><td>3  </td><td>3.3</td><td>4  </td><td>3.5</td><td>good</td></tr>\n",
              "\t<tr><th scope=row>5</th><td>Cra</td><td>1</td><td>Central_Hawkes_Bay</td><td>N135_382/137</td><td>39__38</td><td>100</td><td>850</td><td>-2</td><td>1980</td><td>ni</td><td>2088</td><td>14.5 </td><td>10.78</td><td>90</td><td>4  </td><td>2.7</td><td>3.3</td><td>3  </td><td>3  </td><td>good</td></tr>\n",
              "\t<tr><th scope=row>6</th><td>Cra</td><td>1</td><td>Central_Hawkes_Bay</td><td>N135_382/137</td><td>39__38</td><td>100</td><td>850</td><td>-2</td><td>1980</td><td>ob</td><td>1522</td><td>17.01</td><td>12.28</td><td>70</td><td>5  </td><td>4  </td><td>5  </td><td>4  </td><td>4.5</td><td>best</td></tr>\n",
              "</tbody>\n",
              "</table>\n"
            ],
            "text/latex": "A data.frame: 6 × 20\n\\begin{tabular}{r|llllllllllllllllllll}\n  & Abbrev & Rep & Locality & Map\\_Ref & Latitude & Altitude & Rainfall & Frosts & Year & Sp & PMCno & DBH & Ht & Surv & Vig & Ins\\_res & Stem\\_Fm & Crown\\_Fm & Brnch\\_Fm & Utility\\\\\n  & <chr> & <int> & <chr> & <chr> & <chr> & <int> & <int> & <int> & <int> & <chr> & <chr> & <chr> & <chr> & <chr> & <chr> & <chr> & <chr> & <chr> & <chr> & <chr>\\\\\n\\hline\n\t1 & Cra & 1 & Central\\_Hawkes\\_Bay & N135\\_382/137 & 39\\_\\_38 & 100 & 850 & -2 & 1980 & co & 1520 & 18.45 & 9.96  & 40 & 4   & 3   & 3.5 & 4   & 3.5 & good\\\\\n\t2 & Cra & 1 & Central\\_Hawkes\\_Bay & N135\\_382/137 & 39\\_\\_38 & 100 & 850 & -2 & 1980 & fr & 1487 & 13.15 & 9.65  & 90 & 4.5 & 4   & 3.5 & 3.5 & 3   & best\\\\\n\t3 & Cra & 1 & Central\\_Hawkes\\_Bay & N135\\_382/137 & 39\\_\\_38 & 100 & 850 & -2 & 1980 & ma & 1362 & 10.32 & 6.5   & 50 & 2.3 & 2.5 & 3   & 3.5 & 3   & low \\\\\n\t4 & Cra & 1 & Central\\_Hawkes\\_Bay & N135\\_382/137 & 39\\_\\_38 & 100 & 850 & -2 & 1980 & nd & 1596 & 14.8  & 9.48  & 70 & 3.7 & 3   & 3.3 & 4   & 3.5 & good\\\\\n\t5 & Cra & 1 & Central\\_Hawkes\\_Bay & N135\\_382/137 & 39\\_\\_38 & 100 & 850 & -2 & 1980 & ni & 2088 & 14.5  & 10.78 & 90 & 4   & 2.7 & 3.3 & 3   & 3   & good\\\\\n\t6 & Cra & 1 & Central\\_Hawkes\\_Bay & N135\\_382/137 & 39\\_\\_38 & 100 & 850 & -2 & 1980 & ob & 1522 & 17.01 & 12.28 & 70 & 5   & 4   & 5   & 4   & 4.5 & best\\\\\n\\end{tabular}\n",
            "text/markdown": "\nA data.frame: 6 × 20\n\n| <!--/--> | Abbrev &lt;chr&gt; | Rep &lt;int&gt; | Locality &lt;chr&gt; | Map_Ref &lt;chr&gt; | Latitude &lt;chr&gt; | Altitude &lt;int&gt; | Rainfall &lt;int&gt; | Frosts &lt;int&gt; | Year &lt;int&gt; | Sp &lt;chr&gt; | PMCno &lt;chr&gt; | DBH &lt;chr&gt; | Ht &lt;chr&gt; | Surv &lt;chr&gt; | Vig &lt;chr&gt; | Ins_res &lt;chr&gt; | Stem_Fm &lt;chr&gt; | Crown_Fm &lt;chr&gt; | Brnch_Fm &lt;chr&gt; | Utility &lt;chr&gt; |\n|---|---|---|---|---|---|---|---|---|---|---|---|---|---|---|---|---|---|---|---|---|\n| 1 | Cra | 1 | Central_Hawkes_Bay | N135_382/137 | 39__38 | 100 | 850 | -2 | 1980 | co | 1520 | 18.45 | 9.96  | 40 | 4   | 3   | 3.5 | 4   | 3.5 | good |\n| 2 | Cra | 1 | Central_Hawkes_Bay | N135_382/137 | 39__38 | 100 | 850 | -2 | 1980 | fr | 1487 | 13.15 | 9.65  | 90 | 4.5 | 4   | 3.5 | 3.5 | 3   | best |\n| 3 | Cra | 1 | Central_Hawkes_Bay | N135_382/137 | 39__38 | 100 | 850 | -2 | 1980 | ma | 1362 | 10.32 | 6.5   | 50 | 2.3 | 2.5 | 3   | 3.5 | 3   | low  |\n| 4 | Cra | 1 | Central_Hawkes_Bay | N135_382/137 | 39__38 | 100 | 850 | -2 | 1980 | nd | 1596 | 14.8  | 9.48  | 70 | 3.7 | 3   | 3.3 | 4   | 3.5 | good |\n| 5 | Cra | 1 | Central_Hawkes_Bay | N135_382/137 | 39__38 | 100 | 850 | -2 | 1980 | ni | 2088 | 14.5  | 10.78 | 90 | 4   | 2.7 | 3.3 | 3   | 3   | good |\n| 6 | Cra | 1 | Central_Hawkes_Bay | N135_382/137 | 39__38 | 100 | 850 | -2 | 1980 | ob | 1522 | 17.01 | 12.28 | 70 | 5   | 4   | 5   | 4   | 4.5 | best |\n\n",
            "text/plain": [
              "  Abbrev Rep Locality           Map_Ref      Latitude Altitude Rainfall Frosts\n",
              "1 Cra    1   Central_Hawkes_Bay N135_382/137 39__38   100      850      -2    \n",
              "2 Cra    1   Central_Hawkes_Bay N135_382/137 39__38   100      850      -2    \n",
              "3 Cra    1   Central_Hawkes_Bay N135_382/137 39__38   100      850      -2    \n",
              "4 Cra    1   Central_Hawkes_Bay N135_382/137 39__38   100      850      -2    \n",
              "5 Cra    1   Central_Hawkes_Bay N135_382/137 39__38   100      850      -2    \n",
              "6 Cra    1   Central_Hawkes_Bay N135_382/137 39__38   100      850      -2    \n",
              "  Year Sp PMCno DBH   Ht    Surv Vig Ins_res Stem_Fm Crown_Fm Brnch_Fm Utility\n",
              "1 1980 co 1520  18.45 9.96  40   4   3       3.5     4        3.5      good   \n",
              "2 1980 fr 1487  13.15 9.65  90   4.5 4       3.5     3.5      3        best   \n",
              "3 1980 ma 1362  10.32 6.5   50   2.3 2.5     3       3.5      3        low    \n",
              "4 1980 nd 1596  14.8  9.48  70   3.7 3       3.3     4        3.5      good   \n",
              "5 1980 ni 2088  14.5  10.78 90   4   2.7     3.3     3        3        good   \n",
              "6 1980 ob 1522  17.01 12.28 70   5   4       5       4        4.5      best   "
            ]
          },
          "metadata": {},
          "output_type": "display_data"
        }
      ],
      "source": [
        "#@title\n",
        "#Read Data\n",
        "set.seed(699)\n",
        "eucalyptus <- read.csv(\"eucalyptus.csv\")\n",
        "nrow(eucalyptus)\n",
        "ncol(eucalyptus)\n",
        "colnames(eucalyptus) = c(\"Abbrev\",\"Rep\",\"Locality\",\"Map_Ref\",\"Latitude\",\"Altitude\",\"Rainfall\",\"Frosts\",\"Year\",\"Sp\",\"PMCno\",\"DBH\",\"Ht\",\"Surv\",\"Vig\",\"Ins_res\",\"Stem_Fm\",\"Crown_Fm\",\"Brnch_Fm\",\"Utility\")\n",
        "head(eucalyptus)"
      ]
    },
    {
      "cell_type": "markdown",
      "metadata": {
        "id": "bC5MJoxY9_6T"
      },
      "source": [
        "# Data Cleaning"
      ]
    },
    {
      "cell_type": "code",
      "execution_count": null,
      "metadata": {
        "colab": {
          "base_uri": "https://localhost:8080/"
        },
        "collapsed": true,
        "id": "_KPNqvgWaJI8",
        "outputId": "18fbf137-ace1-4f46-a50b-c909817958c5"
      },
      "outputs": [
        {
          "data": {
            "text/html": [
              "<style>\n",
              ".dl-inline {width: auto; margin:0; padding: 0}\n",
              ".dl-inline>dt, .dl-inline>dd {float: none; width: auto; display: inline-block}\n",
              ".dl-inline>dt::after {content: \":\\0020\"; padding-right: .5ex}\n",
              ".dl-inline>dt:not(:first-of-type) {padding-left: .5ex}\n",
              "</style><dl class=dl-inline><dt>Abbrev</dt><dd>0</dd><dt>Rep</dt><dd>0</dd><dt>Locality</dt><dd>0</dd><dt>Map_Ref</dt><dd>0</dd><dt>Latitude</dt><dd>0</dd><dt>Altitude</dt><dd>0</dd><dt>Rainfall</dt><dd>0</dd><dt>Frosts</dt><dd>0</dd><dt>Year</dt><dd>0</dd><dt>Sp</dt><dd>0</dd><dt>PMCno</dt><dd>7</dd><dt>DBH</dt><dd>1</dd><dt>Ht</dt><dd>1</dd><dt>Surv</dt><dd>94</dd><dt>Vig</dt><dd>69</dd><dt>Ins_res</dt><dd>69</dd><dt>Stem_Fm</dt><dd>69</dd><dt>Crown_Fm</dt><dd>69</dd><dt>Brnch_Fm</dt><dd>69</dd><dt>Utility</dt><dd>0</dd></dl>\n"
            ],
            "text/latex": "\\begin{description*}\n\\item[Abbrev] 0\n\\item[Rep] 0\n\\item[Locality] 0\n\\item[Map\\textbackslash{}\\_Ref] 0\n\\item[Latitude] 0\n\\item[Altitude] 0\n\\item[Rainfall] 0\n\\item[Frosts] 0\n\\item[Year] 0\n\\item[Sp] 0\n\\item[PMCno] 7\n\\item[DBH] 1\n\\item[Ht] 1\n\\item[Surv] 94\n\\item[Vig] 69\n\\item[Ins\\textbackslash{}\\_res] 69\n\\item[Stem\\textbackslash{}\\_Fm] 69\n\\item[Crown\\textbackslash{}\\_Fm] 69\n\\item[Brnch\\textbackslash{}\\_Fm] 69\n\\item[Utility] 0\n\\end{description*}\n",
            "text/markdown": "Abbrev\n:   0Rep\n:   0Locality\n:   0Map_Ref\n:   0Latitude\n:   0Altitude\n:   0Rainfall\n:   0Frosts\n:   0Year\n:   0Sp\n:   0PMCno\n:   7DBH\n:   1Ht\n:   1Surv\n:   94Vig\n:   69Ins_res\n:   69Stem_Fm\n:   69Crown_Fm\n:   69Brnch_Fm\n:   69Utility\n:   0\n\n",
            "text/plain": [
              "  Abbrev      Rep Locality  Map_Ref Latitude Altitude Rainfall   Frosts \n",
              "       0        0        0        0        0        0        0        0 \n",
              "    Year       Sp    PMCno      DBH       Ht     Surv      Vig  Ins_res \n",
              "       0        0        7        1        1       94       69       69 \n",
              " Stem_Fm Crown_Fm Brnch_Fm  Utility \n",
              "      69       69       69        0 "
            ]
          },
          "metadata": {},
          "output_type": "display_data"
        }
      ],
      "source": [
        "#@title Check for ? & convert to NA and count NAs { display-mode: \"form\" }\n",
        "#@title\n",
        "#Set all ? to NA for removal\n",
        "set.seed(699)\n",
        "eucalyptus[eucalyptus == '?'] = NA\n",
        "#Test the number of missing value\n",
        "sapply(eucalyptus,function(x)sum(is.na(x)))"
      ]
    },
    {
      "cell_type": "code",
      "execution_count": null,
      "metadata": {
        "colab": {
          "base_uri": "https://localhost:8080/"
        },
        "id": "NoY8JMBkau7Q",
        "outputId": "ee9849d8-eb28-4176-b958-4b2338e1c9bf"
      },
      "outputs": [
        {
          "data": {
            "text/html": [
              "641"
            ],
            "text/latex": "641",
            "text/markdown": "641",
            "text/plain": [
              "[1] 641"
            ]
          },
          "metadata": {},
          "output_type": "display_data"
        }
      ],
      "source": [
        "#@title Delete NAs { display-mode: \"form\" }\n",
        "#Delete rows with null values\n",
        "set.seed(699)\n",
        "data <- na.omit(eucalyptus)\n",
        "nrow(data)"
      ]
    },
    {
      "cell_type": "code",
      "execution_count": null,
      "metadata": {
        "colab": {
          "base_uri": "https://localhost:8080/"
        },
        "id": "HPHmU8WzcxwE",
        "outputId": "1fc00654-b58c-4a44-b7bf-a744690349c4"
      },
      "outputs": [
        {
          "data": {
            "text/plain": [
              "     Abbrev                             Locality           Map_Ref   \n",
              " Puk    : 84   Central_Hawkes_Bay           : 30   N158_344/626:143  \n",
              " Wak    : 73   Central_Hawkes_Bay_(coastal) : 70   N166_063/197: 84  \n",
              " Wai    : 70   Central_Wairarapa            :188   N162_081/300: 73  \n",
              " K81    : 64   South_Wairarapa              :210   N142_377/957: 70  \n",
              " WSp    : 59   Southern_Hawkes_Bay          : 85   N151_912/221: 59  \n",
              " Paw    : 55   Southern_Hawkes_Bay_(coastal): 55   N146_273/737: 55  \n",
              " (Other):233                                       (Other)     :154  \n",
              "    Altitude        Rainfall        Frosts         Year           Sp     \n",
              " Min.   : 70.0   Min.   : 850   Min.   :-3.000   1980: 52   re     : 81  \n",
              " 1st Qu.:150.0   1st Qu.:1000   1st Qu.:-3.000   1981:240   nd     : 67  \n",
              " Median :180.0   Median :1080   Median :-3.000   1982:129   ov     : 59  \n",
              " Mean   :173.4   Mean   :1098   Mean   :-2.668   1983:217   fa     : 52  \n",
              " 3rd Qu.:180.0   3rd Qu.:1200   3rd Qu.:-2.000              fr     : 49  \n",
              " Max.   :300.0   Max.   :1300   Max.   :-2.000              ob     : 48  \n",
              "                                                            (Other):282  \n",
              "     PMCno          DBH                 Ht              Surv       \n",
              " 1596   : 30   Min.   :    0.58   Min.   : 1.120   Min.   :  1.50  \n",
              " 2548   : 20   1st Qu.:    7.66   1st Qu.: 5.838   1st Qu.: 38.00  \n",
              " 2575   : 19   Median :   13.00   Median : 8.710   Median : 63.00  \n",
              " 1482   : 18   Mean   :   80.31   Mean   : 9.099   Mean   : 59.72  \n",
              " 2553   : 18   3rd Qu.:   18.68   3rd Qu.:11.800   3rd Qu.: 88.00  \n",
              " 2571   : 18   Max.   :42085.00   Max.   :21.790   Max.   :100.00  \n",
              " (Other):515                                                       \n",
              "      Vig           Ins_res         Stem_Fm         Crown_Fm    \n",
              " Min.   :0.500   Min.   :0.000   Min.   :0.000   Min.   :0.000  \n",
              " 1st Qu.:2.500   1st Qu.:2.300   1st Qu.:2.500   1st Qu.:3.000  \n",
              " Median :3.000   Median :3.000   Median :3.000   Median :3.200  \n",
              " Mean   :3.059   Mean   :2.874   Mean   :2.989   Mean   :3.205  \n",
              " 3rd Qu.:4.000   3rd Qu.:3.500   3rd Qu.:3.500   3rd Qu.:4.000  \n",
              " Max.   :5.000   Max.   :4.500   Max.   :5.000   Max.   :5.000  \n",
              "                                                                \n",
              "    Brnch_Fm         class    \n",
              " Min.   :0.000   average:125  \n",
              " 1st Qu.:2.500   best   : 98  \n",
              " Median :3.000   good   :203  \n",
              " Mean   :2.848   low    :102  \n",
              " 3rd Qu.:3.300   none   :110  \n",
              " Max.   :5.000                \n",
              "                              "
            ]
          },
          "metadata": {},
          "output_type": "display_data"
        }
      ],
      "source": [
        "#@title Clean data and Convert attribute types\n",
        "set.seed(699)\n",
        "data <- data.frame(unclass(data), stringsAsFactors = TRUE)\n",
        "#(1)drop levels that has 0 entries, due to omit na\n",
        "data$Locality <- droplevels(data$Locality)\n",
        "data$Abbrev <- droplevels(data$Abbrev)\n",
        "data$Sp <- droplevels(data$Sp)\n",
        "data$PMCno <- droplevels(data$PMCno)\n",
        "data$Surv <- droplevels(data$Surv)\n",
        "data$Vig <- droplevels(data$Vig)\n",
        "data$Ins_res <- droplevels(data$Ins_res)\n",
        "data$Stem_Fm <- droplevels(data$Stem_Fm)\n",
        "data$Crown_Fm <- droplevels(data$Crown_Fm)\n",
        "data$Brnch_Fm <- droplevels(data$Brnch_Fm)\n",
        "#(2)drop columns Rep and Latitude using subset()\n",
        "data <- subset(data, select = -c(Rep,Latitude))\n",
        "#(3)convert Year to factor\n",
        "data$Year <- factor(data$Year)\n",
        "#(4)convert attributes to numeric variables\n",
        "data$Ht <- as.numeric(as.character(data$Ht))\n",
        "data$DBH <- as.numeric(as.character(data$DBH))\n",
        "data$Stem_Fm = as.numeric(as.character(data$Stem_Fm))\n",
        "data$Crown_Fm = as.numeric(as.character(data$Crown_Fm))\n",
        "data$Brnch_Fm = as.numeric(as.character(data$Brnch_Fm))\n",
        "data$Surv <- as.numeric(as.character(data$Surv))\n",
        "data$Vig = as.numeric(as.character(data$Vig))\n",
        "data$Ins_res = as.numeric(as.character(data$Ins_res))\n",
        "#(5)convert Utility colnames to class\n",
        "colnames(data)[which(names(data) == \"Utility\")] <- \"class\"\n",
        "#(6)remove entry where PMCno=1\n",
        "data = subset(data, data$PMCno != 1)\n",
        "summary(data)"
      ]
    },
    {
      "cell_type": "code",
      "execution_count": null,
      "metadata": {
        "colab": {
          "base_uri": "https://localhost:8080/"
        },
        "id": "J5_8tNT1Grvl",
        "outputId": "2172d3ba-d828-472f-a336-5578a1c69732"
      },
      "outputs": [
        {
          "data": {
            "image/png": "[encoded data removed]",
            "text/plain": [
              "plot without title"
            ]
          },
          "metadata": {
            "image/png": {
              "height": 420,
              "width": 420
            }
          },
          "output_type": "display_data"
        }
      ],
      "source": [
        "#@title Data Visualization\n",
        "ggplot(data, aes(x = class)) + geom_bar(fill = \"steelblue\") + theme_minimal() +\n",
        "  labs(x = \"Class Label\", y = \"Frequency\", title = \"Distribution of Class Labels\")"
      ]
    },
    {
      "cell_type": "markdown",
      "metadata": {
        "id": "f59XFNYj8dZt"
      },
      "source": [
        "# Data Visualization"
      ]
    },
    {
      "cell_type": "code",
      "execution_count": null,
      "metadata": {
        "colab": {
          "base_uri": "https://localhost:8080/",
          "height": 437
        },
        "id": "H0GU66o38isE",
        "outputId": "1777af43-d67f-4f10-e948-785b14b2684b"
      },
      "outputs": [
        {
          "data": {
            "image/png": "[encoded data removed]",
            "text/plain": [
              "plot without title"
            ]
          },
          "metadata": {
            "image/png": {
              "height": 420,
              "width": 420
            }
          },
          "output_type": "display_data"
        }
      ],
      "source": [
        "ggplot(data, aes(x = class)) + geom_bar(fill = \"steelblue\") + theme_minimal() +\n",
        "  labs(x = \"Class Label\", y = \"Frequency\", title = \"Distribution of Class Labels\")"
      ]
    },
    {
      "cell_type": "markdown",
      "metadata": {
        "id": "1rBtK5VpIQfz"
      },
      "source": [
        "# Attribute Names & Definitions"
      ]
    },
    {
      "cell_type": "markdown",
      "metadata": {
        "id": "kdVQHTAaQ9Ii"
      },
      "source": [
        "---\n",
        "*   Abbrev: Site Abbreviation (Cly=Clydebank, Cra=Craggy Range Road, ...)\n",
        "*   Rep: Number of Experimental Replications\n",
        "*   Locality: Site location in North Island (Central Hawkes Bay, Northern Hawkes Bay, ...)\n",
        "*   Map_Ref: Map Location in North Island\n",
        "*   Latitude: Latitude Approximation South(degrees__minutes) -> South(39__38)\n",
        "*   Altitude: Unit (m)\n",
        "*   Rainfall:  Unit (mm pa)\n",
        "*   Frosts: Unit (Degrees C)\n",
        "*   Year: Year of Planting\n",
        "*   Sp: Species (Enumerated)\n",
        "*   PMCno: Seedlot Number, a unique number for specific species with specific quantity and quality\n",
        "*   DBH: Diameter at Breast Height, Unit (cm)\n",
        "*   Ht: Height, Unit (m)\n",
        "*   Surv: Survival Percentage\n",
        "*   Vig: Vigour(Health and Resilience)\n",
        "*   Ins_res: Insect Resistance\n",
        "*   Stem_Fm: Stem Form\n",
        "*   Crown_Fm: Crown Form\n",
        "*   Brnch_Fm: Branch Form\n",
        "*   Utility: Determined by None, Low, Average, Good, Best\n",
        "\n",
        "\n",
        "\n",
        "\n",
        "\n",
        "\n",
        "\n"
      ]
    },
    {
      "cell_type": "markdown",
      "metadata": {
        "id": "TO62n9iq-bcB"
      },
      "source": [
        "# Split dataset into train and test sets"
      ]
    },
    {
      "cell_type": "code",
      "execution_count": null,
      "metadata": {
        "colab": {
          "base_uri": "https://localhost:8080/"
        },
        "id": "UmiGgGQG0WM7",
        "outputId": "358d1fa6-a8c2-482c-8fd0-da8b38cc83ac"
      },
      "outputs": [
        {
          "data": {
            "text/html": [
              "<table class=\"dataframe\">\n",
              "<caption>A data.frame: 1 × 18</caption>\n",
              "<thead>\n",
              "\t<tr><th></th><th scope=col>Abbrev</th><th scope=col>Locality</th><th scope=col>Map_Ref</th><th scope=col>Altitude</th><th scope=col>Rainfall</th><th scope=col>Frosts</th><th scope=col>Year</th><th scope=col>Sp</th><th scope=col>PMCno</th><th scope=col>DBH</th><th scope=col>Ht</th><th scope=col>Surv</th><th scope=col>Vig</th><th scope=col>Ins_res</th><th scope=col>Stem_Fm</th><th scope=col>Crown_Fm</th><th scope=col>Brnch_Fm</th><th scope=col>class</th></tr>\n",
              "\t<tr><th></th><th scope=col>&lt;fct&gt;</th><th scope=col>&lt;int&gt;</th><th scope=col>&lt;fct&gt;</th><th scope=col>&lt;int&gt;</th><th scope=col>&lt;int&gt;</th><th scope=col>&lt;int&gt;</th><th scope=col>&lt;fct&gt;</th><th scope=col>&lt;fct&gt;</th><th scope=col>&lt;fct&gt;</th><th scope=col>&lt;dbl&gt;</th><th scope=col>&lt;dbl&gt;</th><th scope=col>&lt;dbl&gt;</th><th scope=col>&lt;dbl&gt;</th><th scope=col>&lt;dbl&gt;</th><th scope=col>&lt;dbl&gt;</th><th scope=col>&lt;dbl&gt;</th><th scope=col>&lt;dbl&gt;</th><th scope=col>&lt;fct&gt;</th></tr>\n",
              "</thead>\n",
              "<tbody>\n",
              "\t<tr><th scope=row>3</th><td>Cra</td><td>1</td><td>N135_382/137</td><td>100</td><td>850</td><td>-2</td><td>1980</td><td>ma</td><td>1362</td><td>10.32</td><td>6.5</td><td>50</td><td>2.3</td><td>2.5</td><td>3</td><td>3.5</td><td>3</td><td>low</td></tr>\n",
              "</tbody>\n",
              "</table>\n"
            ],
            "text/latex": "A data.frame: 1 × 18\n\\begin{tabular}{r|llllllllllllllllll}\n  & Abbrev & Locality & Map\\_Ref & Altitude & Rainfall & Frosts & Year & Sp & PMCno & DBH & Ht & Surv & Vig & Ins\\_res & Stem\\_Fm & Crown\\_Fm & Brnch\\_Fm & class\\\\\n  & <fct> & <int> & <fct> & <int> & <int> & <int> & <fct> & <fct> & <fct> & <dbl> & <dbl> & <dbl> & <dbl> & <dbl> & <dbl> & <dbl> & <dbl> & <fct>\\\\\n\\hline\n\t3 & Cra & 1 & N135\\_382/137 & 100 & 850 & -2 & 1980 & ma & 1362 & 10.32 & 6.5 & 50 & 2.3 & 2.5 & 3 & 3.5 & 3 & low\\\\\n\\end{tabular}\n",
            "text/markdown": "\nA data.frame: 1 × 18\n\n| <!--/--> | Abbrev &lt;fct&gt; | Locality &lt;int&gt; | Map_Ref &lt;fct&gt; | Altitude &lt;int&gt; | Rainfall &lt;int&gt; | Frosts &lt;int&gt; | Year &lt;fct&gt; | Sp &lt;fct&gt; | PMCno &lt;fct&gt; | DBH &lt;dbl&gt; | Ht &lt;dbl&gt; | Surv &lt;dbl&gt; | Vig &lt;dbl&gt; | Ins_res &lt;dbl&gt; | Stem_Fm &lt;dbl&gt; | Crown_Fm &lt;dbl&gt; | Brnch_Fm &lt;dbl&gt; | class &lt;fct&gt; |\n|---|---|---|---|---|---|---|---|---|---|---|---|---|---|---|---|---|---|---|\n| 3 | Cra | 1 | N135_382/137 | 100 | 850 | -2 | 1980 | ma | 1362 | 10.32 | 6.5 | 50 | 2.3 | 2.5 | 3 | 3.5 | 3 | low |\n\n",
            "text/plain": [
              "  Abbrev Locality Map_Ref      Altitude Rainfall Frosts Year Sp PMCno DBH   Ht \n",
              "3 Cra    1        N135_382/137 100      850      -2     1980 ma 1362  10.32 6.5\n",
              "  Surv Vig Ins_res Stem_Fm Crown_Fm Brnch_Fm class\n",
              "3 50   2.3 2.5     3       3.5      3        low  "
            ]
          },
          "metadata": {},
          "output_type": "display_data"
        },
        {
          "data": {
            "text/html": [
              "<table class=\"dataframe\">\n",
              "<caption>A data.frame: 1 × 18</caption>\n",
              "<thead>\n",
              "\t<tr><th></th><th scope=col>Abbrev</th><th scope=col>Locality</th><th scope=col>Map_Ref</th><th scope=col>Altitude</th><th scope=col>Rainfall</th><th scope=col>Frosts</th><th scope=col>Year</th><th scope=col>Sp</th><th scope=col>PMCno</th><th scope=col>DBH</th><th scope=col>Ht</th><th scope=col>Surv</th><th scope=col>Vig</th><th scope=col>Ins_res</th><th scope=col>Stem_Fm</th><th scope=col>Crown_Fm</th><th scope=col>Brnch_Fm</th><th scope=col>class</th></tr>\n",
              "\t<tr><th></th><th scope=col>&lt;fct&gt;</th><th scope=col>&lt;int&gt;</th><th scope=col>&lt;fct&gt;</th><th scope=col>&lt;int&gt;</th><th scope=col>&lt;int&gt;</th><th scope=col>&lt;int&gt;</th><th scope=col>&lt;fct&gt;</th><th scope=col>&lt;fct&gt;</th><th scope=col>&lt;fct&gt;</th><th scope=col>&lt;dbl&gt;</th><th scope=col>&lt;dbl&gt;</th><th scope=col>&lt;dbl&gt;</th><th scope=col>&lt;dbl&gt;</th><th scope=col>&lt;dbl&gt;</th><th scope=col>&lt;dbl&gt;</th><th scope=col>&lt;dbl&gt;</th><th scope=col>&lt;dbl&gt;</th><th scope=col>&lt;fct&gt;</th></tr>\n",
              "</thead>\n",
              "<tbody>\n",
              "\t<tr><th scope=row>30</th><td>Cra</td><td>1</td><td>N135_382/137</td><td>100</td><td>850</td><td>-2</td><td>1980</td><td>si</td><td>1525</td><td>14.75</td><td>7.79</td><td>30</td><td>4</td><td>4</td><td>4</td><td>2.5</td><td>2</td><td>good</td></tr>\n",
              "</tbody>\n",
              "</table>\n"
            ],
            "text/latex": "A data.frame: 1 × 18\n\\begin{tabular}{r|llllllllllllllllll}\n  & Abbrev & Locality & Map\\_Ref & Altitude & Rainfall & Frosts & Year & Sp & PMCno & DBH & Ht & Surv & Vig & Ins\\_res & Stem\\_Fm & Crown\\_Fm & Brnch\\_Fm & class\\\\\n  & <fct> & <int> & <fct> & <int> & <int> & <int> & <fct> & <fct> & <fct> & <dbl> & <dbl> & <dbl> & <dbl> & <dbl> & <dbl> & <dbl> & <dbl> & <fct>\\\\\n\\hline\n\t30 & Cra & 1 & N135\\_382/137 & 100 & 850 & -2 & 1980 & si & 1525 & 14.75 & 7.79 & 30 & 4 & 4 & 4 & 2.5 & 2 & good\\\\\n\\end{tabular}\n",
            "text/markdown": "\nA data.frame: 1 × 18\n\n| <!--/--> | Abbrev &lt;fct&gt; | Locality &lt;int&gt; | Map_Ref &lt;fct&gt; | Altitude &lt;int&gt; | Rainfall &lt;int&gt; | Frosts &lt;int&gt; | Year &lt;fct&gt; | Sp &lt;fct&gt; | PMCno &lt;fct&gt; | DBH &lt;dbl&gt; | Ht &lt;dbl&gt; | Surv &lt;dbl&gt; | Vig &lt;dbl&gt; | Ins_res &lt;dbl&gt; | Stem_Fm &lt;dbl&gt; | Crown_Fm &lt;dbl&gt; | Brnch_Fm &lt;dbl&gt; | class &lt;fct&gt; |\n|---|---|---|---|---|---|---|---|---|---|---|---|---|---|---|---|---|---|---|\n| 30 | Cra | 1 | N135_382/137 | 100 | 850 | -2 | 1980 | si | 1525 | 14.75 | 7.79 | 30 | 4 | 4 | 4 | 2.5 | 2 | good |\n\n",
            "text/plain": [
              "   Abbrev Locality Map_Ref      Altitude Rainfall Frosts Year Sp PMCno DBH  \n",
              "30 Cra    1        N135_382/137 100      850      -2     1980 si 1525  14.75\n",
              "   Ht   Surv Vig Ins_res Stem_Fm Crown_Fm Brnch_Fm class\n",
              "30 7.79 30   4   4       4       2.5      2        good "
            ]
          },
          "metadata": {},
          "output_type": "display_data"
        },
        {
          "data": {
            "text/html": [
              "<table class=\"dataframe\">\n",
              "<caption>A data.frame: 1 × 18</caption>\n",
              "<thead>\n",
              "\t<tr><th></th><th scope=col>Abbrev</th><th scope=col>Locality</th><th scope=col>Map_Ref</th><th scope=col>Altitude</th><th scope=col>Rainfall</th><th scope=col>Frosts</th><th scope=col>Year</th><th scope=col>Sp</th><th scope=col>PMCno</th><th scope=col>DBH</th><th scope=col>Ht</th><th scope=col>Surv</th><th scope=col>Vig</th><th scope=col>Ins_res</th><th scope=col>Stem_Fm</th><th scope=col>Crown_Fm</th><th scope=col>Brnch_Fm</th><th scope=col>class</th></tr>\n",
              "\t<tr><th></th><th scope=col>&lt;fct&gt;</th><th scope=col>&lt;int&gt;</th><th scope=col>&lt;fct&gt;</th><th scope=col>&lt;int&gt;</th><th scope=col>&lt;int&gt;</th><th scope=col>&lt;int&gt;</th><th scope=col>&lt;fct&gt;</th><th scope=col>&lt;fct&gt;</th><th scope=col>&lt;fct&gt;</th><th scope=col>&lt;dbl&gt;</th><th scope=col>&lt;dbl&gt;</th><th scope=col>&lt;dbl&gt;</th><th scope=col>&lt;dbl&gt;</th><th scope=col>&lt;dbl&gt;</th><th scope=col>&lt;dbl&gt;</th><th scope=col>&lt;dbl&gt;</th><th scope=col>&lt;dbl&gt;</th><th scope=col>&lt;fct&gt;</th></tr>\n",
              "</thead>\n",
              "<tbody>\n",
              "\t<tr><th scope=row>31</th><td>Nga</td><td>5</td><td>N145_874/586</td><td>130</td><td>1000</td><td>-3</td><td>1980</td><td>co</td><td>1520</td><td>10.1</td><td>8.2</td><td>60</td><td>3</td><td>4</td><td>3.5</td><td>3.5</td><td>3.2</td><td>average</td></tr>\n",
              "</tbody>\n",
              "</table>\n"
            ],
            "text/latex": "A data.frame: 1 × 18\n\\begin{tabular}{r|llllllllllllllllll}\n  & Abbrev & Locality & Map\\_Ref & Altitude & Rainfall & Frosts & Year & Sp & PMCno & DBH & Ht & Surv & Vig & Ins\\_res & Stem\\_Fm & Crown\\_Fm & Brnch\\_Fm & class\\\\\n  & <fct> & <int> & <fct> & <int> & <int> & <int> & <fct> & <fct> & <fct> & <dbl> & <dbl> & <dbl> & <dbl> & <dbl> & <dbl> & <dbl> & <dbl> & <fct>\\\\\n\\hline\n\t31 & Nga & 5 & N145\\_874/586 & 130 & 1000 & -3 & 1980 & co & 1520 & 10.1 & 8.2 & 60 & 3 & 4 & 3.5 & 3.5 & 3.2 & average\\\\\n\\end{tabular}\n",
            "text/markdown": "\nA data.frame: 1 × 18\n\n| <!--/--> | Abbrev &lt;fct&gt; | Locality &lt;int&gt; | Map_Ref &lt;fct&gt; | Altitude &lt;int&gt; | Rainfall &lt;int&gt; | Frosts &lt;int&gt; | Year &lt;fct&gt; | Sp &lt;fct&gt; | PMCno &lt;fct&gt; | DBH &lt;dbl&gt; | Ht &lt;dbl&gt; | Surv &lt;dbl&gt; | Vig &lt;dbl&gt; | Ins_res &lt;dbl&gt; | Stem_Fm &lt;dbl&gt; | Crown_Fm &lt;dbl&gt; | Brnch_Fm &lt;dbl&gt; | class &lt;fct&gt; |\n|---|---|---|---|---|---|---|---|---|---|---|---|---|---|---|---|---|---|---|\n| 31 | Nga | 5 | N145_874/586 | 130 | 1000 | -3 | 1980 | co | 1520 | 10.1 | 8.2 | 60 | 3 | 4 | 3.5 | 3.5 | 3.2 | average |\n\n",
            "text/plain": [
              "   Abbrev Locality Map_Ref      Altitude Rainfall Frosts Year Sp PMCno DBH  Ht \n",
              "31 Nga    5        N145_874/586 130      1000     -3     1980 co 1520  10.1 8.2\n",
              "   Surv Vig Ins_res Stem_Fm Crown_Fm Brnch_Fm class  \n",
              "31 60   3   4       3.5     3.5      3.2      average"
            ]
          },
          "metadata": {},
          "output_type": "display_data"
        }
      ],
      "source": [
        "#Split the dataset into a training dataset and a test dataset\n",
        "set.seed(699)\n",
        "data$Locality = as.integer(data$Locality)\n",
        "data[3,]\n",
        "data[30,]\n",
        "data[31,]\n",
        "tr_idx <- sample(dim(data)[1], dim(data)[1]*0.66)\n",
        "train <- data[tr_idx, ]\n",
        "test <- data[-tr_idx, ]"
      ]
    },
    {
      "cell_type": "markdown",
      "metadata": {
        "id": "0JTgENvt-kVQ"
      },
      "source": [
        "# Attribute Selection Methods"
      ]
    },
    {
      "cell_type": "code",
      "execution_count": null,
      "metadata": {
        "cellView": "form",
        "id": "LOJ5iWEAjqqa"
      },
      "outputs": [],
      "source": [
        "#@title Chi-Square Test { vertical-output: true }\n",
        "# Using Attribute Selection Method: Chi-Square Test\n",
        "Feat_Sel_CHI_SQR <- function(train) {\n",
        "    weighted = chi.squared(class~., train)\n",
        "    barplot(t(as.matrix(weighted)), las = 3)\n",
        "    # Cut off point\n",
        "    attr_subset = cutoff.biggest.diff(weighted)\n",
        "    # Reduced training dataset\n",
        "    subset = train %>% select(attr_subset)\n",
        "    subset$Utility = train$Utility\n",
        "    return(subset)\n",
        "}"
      ]
    },
    {
      "cell_type": "code",
      "execution_count": null,
      "metadata": {
        "id": "yq1kIbaN39HG"
      },
      "outputs": [],
      "source": [
        "#@title Learning Vector Quantization (L.V.Q.) { display-mode: \"form\" }\n",
        "# Using Attribute Selection Method: Rank Features by Importance using L.V.Q.\n",
        "Feat_Sel_LVQ <- function(train){\n",
        "    suppressWarnings({\n",
        "    ctrl = trainControl(method = \"repeatedcv\", number = 10, repeats = 3)\n",
        "    model = train(class ~., data = train, method = \"lvq\", preProcess = \"scale\", trControl = ctrl)\n",
        "    imp = varImp(model, scale = FALSE)\n",
        "    imp_matrix = as.matrix(imp$importance)\n",
        "    # Get Average Scores for each possible class outcome per variable\n",
        "    avg_scores = rowMeans(imp_matrix[, 1:5])\n",
        "    # Set Cutoff to be 0.7\n",
        "    cutoff = 0.7\n",
        "    sel_var = rownames(subset(imp_matrix, avg_scores >= cutoff))\n",
        "    subset = train[sel_var]\n",
        "    return(subset)\n",
        "    })\n",
        "}"
      ]
    },
    {
      "cell_type": "code",
      "execution_count": null,
      "metadata": {
        "cellView": "form",
        "id": "YV_X2CerlLDq"
      },
      "outputs": [],
      "source": [
        "#@title Recursive Feature Elimination (R.F.E.)\n",
        "# R.F.E. cannot handle categorical predictors with more than 53 categories, Drop all attributes that have more than 53 levels\n",
        "Feat_Sel_RFE <- function(train){\n",
        "    red_train = subset(train, select = -c(Abbrev, Map_Ref, PMCno, Sp))\n",
        "    # Using Attribute Selection Method: Recursive Feature Elimination (R.F.E.)\n",
        "    ctrl = rfeControl(functions = rfFuncs, method = \"cv\", number = 10)\n",
        "    results = rfe(red_train[,1:(ncol(red_train) - 1)], red_train[,ncol(red_train)], sizes = c(1:(ncol(red_train) - 1)), rfeControl = ctrl)\n",
        "    subset = train[predictors(results)]\n",
        "    return (subset)\n",
        "}"
      ]
    },
    {
      "cell_type": "code",
      "execution_count": null,
      "metadata": {
        "id": "wSG45YAJmydk"
      },
      "outputs": [],
      "source": [
        "#@title Random Forest Importance (R.F.I.)\n",
        "# Random Forest cannot handle categorical predictors with more than 53 categories\n",
        "# Drop all attributes that have more than 53 levels\n",
        "Feat_Sel_RFI <- function(train){\n",
        "    drop_train = subset(train, select = -c(PMCno))\n",
        "    rf.model = random.forest.importance(class ~., data = drop_train)\n",
        "    rf.model.sub = subset(rf.model, rf.model$attr_importance > 20)\n",
        "    subset = train[rownames(rf.model.sub)]\n",
        "    return (subset)\n",
        "}"
      ]
    },
    {
      "cell_type": "code",
      "execution_count": null,
      "metadata": {
        "id": "XYp5oj7JvfhT"
      },
      "outputs": [],
      "source": [
        "#@title Information Gain\n",
        "Feat_Sel_IG <- function(train){\n",
        "    result = information.gain(class ~., data = train)\n",
        "    cut_off = quantile(result$attr_importance, 0.7)\n",
        "    sel_var = subset(result, result$attr_importance >= cut_off)\n",
        "    subset = train[rownames(sel_var)]\n",
        "    return (subset)\n",
        "}"
      ]
    },
    {
      "cell_type": "markdown",
      "metadata": {
        "id": "36SKNSEkGb1E"
      },
      "source": [
        "\n",
        "# ROC and MCC Calculations"
      ]
    },
    {
      "cell_type": "code",
      "execution_count": null,
      "metadata": {
        "id": "Xm91hp1FTXmp"
      },
      "outputs": [],
      "source": [
        "#@title Calculate ROC\n",
        "ROC <- function(model, test){\n",
        "    pos.class.prob = predict(model, test, type = \"prob\")\n",
        "  num_classes = length(unique(test$class))\n",
        "  auc_val = numeric(num_classes)\n",
        "  for(i in seq_along(unique(test$class))){\n",
        "    curr_class = as.numeric(test$class == unique(test$class)[i])\n",
        "    roc.obj = roc(curr_class, pos.class.prob[, i])\n",
        "    auc_val[i] = auc(roc.obj)\n",
        "  }\n",
        "  return (auc_val)\n",
        "}"
      ]
    },
    {
      "cell_type": "code",
      "execution_count": null,
      "metadata": {
        "cellView": "form",
        "id": "Xwv2Olak6rrb"
      },
      "outputs": [],
      "source": [
        "#@title Calculate ROC for Naive Bayes\n",
        "ROC.nb <-function(model, test){\n",
        "    pos.class.prob = predict(model, test, type = \"raw\")\n",
        "    multi.roc = multiclass.roc(test$class, pos.class.prob)\n",
        "    auc_val = length(5)\n",
        "    for(i in seq_along(multi.roc$levels)){\n",
        "        curr_class = test$class == multi.roc$levels[i]\n",
        "        else_class = !curr_class\n",
        "        roc.obj = roc(curr_class, pos.class.prob[, i])\n",
        "        auc_val[i] = auc(roc.obj)\n",
        "    }\n",
        "    print(multi.roc$rocs)\n",
        "    return (auc_val)\n",
        "}"
      ]
    },
    {
      "cell_type": "code",
      "execution_count": null,
      "metadata": {
        "cellView": "form",
        "id": "6D_r8B9pTeTg"
      },
      "outputs": [],
      "source": [
        "#@title Calculate MCC\n",
        "MCC_List <- function(perf.mea) {\n",
        "    mcc.val = ncol(perf.mea$table)\n",
        "    for(x in 1:nrow(perf.mea$table)){\n",
        "        tp = perf.mea$table[x, x]\n",
        "        fp = sum(perf.mea$table[-x, x])\n",
        "        fn = sum(perf.mea$table[x, -x])\n",
        "        tn = sum(perf.mea$table[-x, -x])\n",
        "        mcc.val[x] = mcc(tp, fp, tn, fn)\n",
        "    }\n",
        "    return (mcc.val)\n",
        "}\n",
        "mcc <- function(tp, fp, tn, fn){\n",
        "  (tp * tn - fp * fn) / sqrt((tp + fp) * (tp + fn) * (tn + fp) * (tn + fn))\n",
        "}\n"
      ]
    },
    {
      "cell_type": "markdown",
      "metadata": {
        "id": "4gBqWsxLyM6C"
      },
      "source": [
        "#10-fold cross-validation"
      ]
    },
    {
      "cell_type": "code",
      "execution_count": null,
      "metadata": {
        "id": "1s-jZOJhvzkY"
      },
      "outputs": [],
      "source": [
        "set.seed(699)\n",
        "# repeat 10-fold cross-validation 5 times\n",
        "train_control <- trainControl(method = \"repeatedcv\", number = 10, repeats = 5,\n",
        "                              summaryFunction = defaultSummary)"
      ]
    },
    {
      "cell_type": "markdown",
      "metadata": {
        "id": "5toJXYnr-t-r"
      },
      "source": [
        "# Naive Bayes Model"
      ]
    },
    {
      "cell_type": "code",
      "execution_count": null,
      "metadata": {
        "colab": {
          "base_uri": "https://localhost:8080/",
          "height": 1000
        },
        "id": "tHu9F7skEL9o",
        "outputId": "6f05875f-2623-425b-9027-2add027312ef"
      },
      "outputs": [
        {
          "data": {
            "text/plain": [
              "Confusion Matrix and Statistics\n",
              "\n",
              "          Reference\n",
              "Prediction average best good low none\n",
              "   average      20    3   20   6    1\n",
              "   best          0    0    0   0    0\n",
              "   good         13   40   52   2    2\n",
              "   low           8    2    2  12    4\n",
              "   none          3    0    1   5   21\n",
              "\n",
              "Overall Statistics\n",
              "                                          \n",
              "               Accuracy : 0.4839          \n",
              "                 95% CI : (0.4157, 0.5525)\n",
              "    No Information Rate : 0.3456          \n",
              "    P-Value [Acc > NIR] : 1.894e-05       \n",
              "                                          \n",
              "                  Kappa : 0.309           \n",
              "                                          \n",
              " Mcnemar's Test P-Value : NA              \n",
              "\n",
              "Statistics by Class:\n",
              "\n",
              "                     Class: average Class: best Class: good Class: low\n",
              "Sensitivity                 0.45455      0.0000      0.6933     0.4800\n",
              "Specificity                 0.82659      1.0000      0.5986     0.9167\n",
              "Pos Pred Value              0.40000         NaN      0.4771     0.4286\n",
              "Neg Pred Value              0.85629      0.7926      0.7870     0.9312\n",
              "Prevalence                  0.20276      0.2074      0.3456     0.1152\n",
              "Detection Rate              0.09217      0.0000      0.2396     0.0553\n",
              "Detection Prevalence        0.23041      0.0000      0.5023     0.1290\n",
              "Balanced Accuracy           0.64057      0.5000      0.6460     0.6983\n",
              "                     Class: none\n",
              "Sensitivity              0.75000\n",
              "Specificity              0.95238\n",
              "Pos Pred Value           0.70000\n",
              "Neg Pred Value           0.96257\n",
              "Prevalence               0.12903\n",
              "Detection Rate           0.09677\n",
              "Detection Prevalence     0.13825\n",
              "Balanced Accuracy        0.85119"
            ]
          },
          "metadata": {},
          "output_type": "display_data"
        },
        {
          "name": "stdout",
          "output_type": "stream",
          "text": [
            "Class: average    Class: best    Class: good     Class: low    Class: none \n",
            "     0.4545455      0.0000000      0.6933333      0.4800000      0.7500000 \n",
            "Class: average    Class: best    Class: good     Class: low    Class: none \n",
            "    0.17341040     0.00000000     0.40140845     0.08333333     0.04761905 \n",
            "Class: average    Class: best    Class: good     Class: low    Class: none \n",
            "     0.4000000            NaN      0.4770642      0.4285714      0.7000000 \n",
            "Class: average    Class: best    Class: good     Class: low    Class: none \n",
            "     0.4545455      0.0000000      0.6933333      0.4800000      0.7500000 \n",
            "Class: average    Class: best    Class: good     Class: low    Class: none \n",
            "     0.4255319            NaN      0.5652174      0.4528302      0.7241379 \n"
          ]
        },
        {
          "name": "stderr",
          "output_type": "stream",
          "text": [
            "Setting levels: control = FALSE, case = TRUE\n",
            "\n",
            "Setting direction: controls < cases\n",
            "\n",
            "Setting levels: control = FALSE, case = TRUE\n",
            "\n",
            "Setting direction: controls < cases\n",
            "\n",
            "Setting levels: control = FALSE, case = TRUE\n",
            "\n",
            "Setting direction: controls < cases\n",
            "\n",
            "Setting levels: control = FALSE, case = TRUE\n",
            "\n",
            "Setting direction: controls < cases\n",
            "\n",
            "Setting levels: control = FALSE, case = TRUE\n",
            "\n",
            "Setting direction: controls < cases\n",
            "\n"
          ]
        },
        {
          "name": "stdout",
          "output_type": "stream",
          "text": [
            "$`average/best`\n",
            "$`average/best`[[1]]\n",
            "\n",
            "Call:\n",
            "roc.default(response = classes, predictor = predictor, levels = levels,     percent = percent, direction = direction, auc = FALSE, ci = FALSE)\n",
            "\n",
            "Data: predictor in 44 controls (classes 1) > 45 cases (classes 2).\n",
            "Area under the curve not computed.\n",
            "\n",
            "$`average/best`[[2]]\n",
            "\n",
            "Call:\n",
            "roc.default(response = classes, predictor = predictor, levels = levels,     percent = percent, direction = direction, auc = FALSE, ci = FALSE)\n",
            "\n",
            "Data: predictor in 45 controls (classes 2) > 44 cases (classes 1).\n",
            "Area under the curve not computed.\n",
            "\n",
            "\n",
            "$`average/good`\n",
            "$`average/good`[[1]]\n",
            "\n",
            "Call:\n",
            "roc.default(response = classes, predictor = predictor, levels = levels,     percent = percent, direction = direction, auc = FALSE, ci = FALSE)\n",
            "\n",
            "Data: predictor in 44 controls (classes 1) > 75 cases (classes 2).\n",
            "Area under the curve not computed.\n",
            "\n",
            "$`average/good`[[2]]\n",
            "\n",
            "Call:\n",
            "roc.default(response = classes, predictor = predictor, levels = levels,     percent = percent, direction = direction, auc = FALSE, ci = FALSE)\n",
            "\n",
            "Data: predictor in 75 controls (classes 2) > 44 cases (classes 1).\n",
            "Area under the curve not computed.\n",
            "\n",
            "\n",
            "$`average/low`\n",
            "$`average/low`[[1]]\n",
            "\n",
            "Call:\n",
            "roc.default(response = classes, predictor = predictor, levels = levels,     percent = percent, direction = direction, auc = FALSE, ci = FALSE)\n",
            "\n",
            "Data: predictor in 44 controls (classes 1) > 25 cases (classes 2).\n",
            "Area under the curve not computed.\n",
            "\n",
            "$`average/low`[[2]]\n",
            "\n",
            "Call:\n",
            "roc.default(response = classes, predictor = predictor, levels = levels,     percent = percent, direction = direction, auc = FALSE, ci = FALSE)\n",
            "\n",
            "Data: predictor in 25 controls (classes 2) > 44 cases (classes 1).\n",
            "Area under the curve not computed.\n",
            "\n",
            "\n",
            "$`average/none`\n",
            "$`average/none`[[1]]\n",
            "\n",
            "Call:\n",
            "roc.default(response = classes, predictor = predictor, levels = levels,     percent = percent, direction = direction, auc = FALSE, ci = FALSE)\n",
            "\n",
            "Data: predictor in 44 controls (classes 1) > 28 cases (classes 2).\n",
            "Area under the curve not computed.\n",
            "\n",
            "$`average/none`[[2]]\n",
            "\n",
            "Call:\n",
            "roc.default(response = classes, predictor = predictor, levels = levels,     percent = percent, direction = direction, auc = FALSE, ci = FALSE)\n",
            "\n",
            "Data: predictor in 28 controls (classes 2) > 44 cases (classes 1).\n",
            "Area under the curve not computed.\n",
            "\n",
            "\n",
            "$`best/good`\n",
            "$`best/good`[[1]]\n",
            "\n",
            "Call:\n",
            "roc.default(response = classes, predictor = predictor, levels = levels,     percent = percent, direction = direction, auc = FALSE, ci = FALSE)\n",
            "\n",
            "Data: predictor in 45 controls (classes 1) > 75 cases (classes 2).\n",
            "Area under the curve not computed.\n",
            "\n",
            "$`best/good`[[2]]\n",
            "\n",
            "Call:\n",
            "roc.default(response = classes, predictor = predictor, levels = levels,     percent = percent, direction = direction, auc = FALSE, ci = FALSE)\n",
            "\n",
            "Data: predictor in 75 controls (classes 2) > 45 cases (classes 1).\n",
            "Area under the curve not computed.\n",
            "\n",
            "\n",
            "$`best/low`\n",
            "$`best/low`[[1]]\n",
            "\n",
            "Call:\n",
            "roc.default(response = classes, predictor = predictor, levels = levels,     percent = percent, direction = direction, auc = FALSE, ci = FALSE)\n",
            "\n",
            "Data: predictor in 45 controls (classes 1) > 25 cases (classes 2).\n",
            "Area under the curve not computed.\n",
            "\n",
            "$`best/low`[[2]]\n",
            "\n",
            "Call:\n",
            "roc.default(response = classes, predictor = predictor, levels = levels,     percent = percent, direction = direction, auc = FALSE, ci = FALSE)\n",
            "\n",
            "Data: predictor in 25 controls (classes 2) > 45 cases (classes 1).\n",
            "Area under the curve not computed.\n",
            "\n",
            "\n",
            "$`best/none`\n",
            "$`best/none`[[1]]\n",
            "\n",
            "Call:\n",
            "roc.default(response = classes, predictor = predictor, levels = levels,     percent = percent, direction = direction, auc = FALSE, ci = FALSE)\n",
            "\n",
            "Data: predictor in 45 controls (classes 1) > 28 cases (classes 2).\n",
            "Area under the curve not computed.\n",
            "\n",
            "$`best/none`[[2]]\n",
            "\n",
            "Call:\n",
            "roc.default(response = classes, predictor = predictor, levels = levels,     percent = percent, direction = direction, auc = FALSE, ci = FALSE)\n",
            "\n",
            "Data: predictor in 28 controls (classes 2) > 45 cases (classes 1).\n",
            "Area under the curve not computed.\n",
            "\n",
            "\n",
            "$`good/low`\n",
            "$`good/low`[[1]]\n",
            "\n",
            "Call:\n",
            "roc.default(response = classes, predictor = predictor, levels = levels,     percent = percent, direction = direction, auc = FALSE, ci = FALSE)\n",
            "\n",
            "Data: predictor in 75 controls (classes 1) > 25 cases (classes 2).\n",
            "Area under the curve not computed.\n",
            "\n",
            "$`good/low`[[2]]\n",
            "\n",
            "Call:\n",
            "roc.default(response = classes, predictor = predictor, levels = levels,     percent = percent, direction = direction, auc = FALSE, ci = FALSE)\n",
            "\n",
            "Data: predictor in 25 controls (classes 2) > 75 cases (classes 1).\n",
            "Area under the curve not computed.\n",
            "\n",
            "\n",
            "$`good/none`\n",
            "$`good/none`[[1]]\n",
            "\n",
            "Call:\n",
            "roc.default(response = classes, predictor = predictor, levels = levels,     percent = percent, direction = direction, auc = FALSE, ci = FALSE)\n",
            "\n",
            "Data: predictor in 75 controls (classes 1) > 28 cases (classes 2).\n",
            "Area under the curve not computed.\n",
            "\n",
            "$`good/none`[[2]]\n",
            "\n",
            "Call:\n",
            "roc.default(response = classes, predictor = predictor, levels = levels,     percent = percent, direction = direction, auc = FALSE, ci = FALSE)\n",
            "\n",
            "Data: predictor in 28 controls (classes 2) > 75 cases (classes 1).\n",
            "Area under the curve not computed.\n",
            "\n",
            "\n",
            "$`low/none`\n",
            "$`low/none`[[1]]\n",
            "\n",
            "Call:\n",
            "roc.default(response = classes, predictor = predictor, levels = levels,     percent = percent, direction = direction, auc = FALSE, ci = FALSE)\n",
            "\n",
            "Data: predictor in 25 controls (classes 1) > 28 cases (classes 2).\n",
            "Area under the curve not computed.\n",
            "\n",
            "$`low/none`[[2]]\n",
            "\n",
            "Call:\n",
            "roc.default(response = classes, predictor = predictor, levels = levels,     percent = percent, direction = direction, auc = FALSE, ci = FALSE)\n",
            "\n",
            "Data: predictor in 28 controls (classes 2) > 25 cases (classes 1).\n",
            "Area under the curve not computed.\n",
            "\n",
            "\n",
            "[1] 0.6336048 0.7678295 0.7078873 0.8627083 0.9263039\n",
            "[1] 0.2684239       NaN 0.2776648 0.3777778 0.6821835\n"
          ]
        }
      ],
      "source": [
        "set.seed(699)\n",
        "# Attribute Selection:\n",
        "#attr_subset = Feat_Sel_CHI_SQR(train)\n",
        "#attr_subset = Feat_Sel_LVQ(train)\n",
        "#attr_subset = Feat_Sel_RFE(train)\n",
        "#attr_subset = Feat_Sel_RFI(train)\n",
        "attr_subset = Feat_Sel_IG(train)\n",
        "# build a Naïve Bayes model from training dataset\n",
        "train_nb = attr_subset\n",
        "test_nb = test[colnames(attr_subset)]\n",
        "test_nb$class = test$class\n",
        "model_nb <- naiveBayes(train$class ~ ., data = train_nb)\n",
        "# test on test model\n",
        "NB_test <- predict(model_nb, newdata = test_nb, type = \"class\", trControl = train_control)\n",
        "# produce performance measures\n",
        "perf.mea <- confusionMatrix(NB_test, test$class)\n",
        "perf.mea\n",
        "TP.rate = perf.mea$byClass[,1] # Sensitivity\n",
        "FP.rate = 1 - perf.mea$byClass[,2] # Specificity\n",
        "Prec = perf.mea$byClass[,3]\n",
        "Recall = TP.rate\n",
        "F.meas = 2 * (Prec * Recall) / (Prec + Recall)\n",
        "print(TP.rate)\n",
        "print(FP.rate)\n",
        "print(Prec)\n",
        "print(Recall)\n",
        "print(F.meas)\n",
        "print(ROC.nb(model_nb, test_nb))\n",
        "print(MCC_List(perf.mea))"
      ]
    },
    {
      "cell_type": "markdown",
      "metadata": {
        "id": "5lt848GEVHNt"
      },
      "source": [
        "#KNN Model"
      ]
    },
    {
      "cell_type": "code",
      "execution_count": null,
      "metadata": {
        "colab": {
          "base_uri": "https://localhost:8080/",
          "height": 1000
        },
        "id": "E6IdceS1qNoK",
        "outputId": "35cbec25-6063-4a66-80a7-82bf8ec7f471"
      },
      "outputs": [
        {
          "data": {
            "text/plain": [
              "k-Nearest Neighbors \n",
              "\n",
              "421 samples\n",
              "  4 predictor\n",
              "  5 classes: 'average', 'best', 'good', 'low', 'none' \n",
              "\n",
              "Pre-processing: centered (4), scaled (4) \n",
              "Resampling: Cross-Validated (10 fold, repeated 5 times) \n",
              "Summary of sample sizes: 378, 380, 378, 379, 381, 377, ... \n",
              "Resampling results across tuning parameters:\n",
              "\n",
              "  k    Accuracy   Kappa    \n",
              "    5  0.5530251  0.4238995\n",
              "    7  0.5702609  0.4436521\n",
              "    9  0.5682447  0.4398133\n",
              "   11  0.5715792  0.4442934\n",
              "   13  0.5615188  0.4303739\n",
              "   15  0.5635487  0.4322172\n",
              "   17  0.5691859  0.4383394\n",
              "   19  0.5654423  0.4336921\n",
              "   21  0.5777813  0.4493979\n",
              "   23  0.5679505  0.4365346\n",
              "   25  0.5686334  0.4365353\n",
              "   27  0.5790880  0.4496238\n",
              "   29  0.5790060  0.4494007\n",
              "   31  0.5749252  0.4433640\n",
              "   33  0.5748997  0.4426568\n",
              "   35  0.5734401  0.4402130\n",
              "   37  0.5696506  0.4339918\n",
              "   39  0.5697508  0.4338783\n",
              "   41  0.5625857  0.4238090\n",
              "   43  0.5611545  0.4222143\n",
              "   45  0.5630271  0.4245433\n",
              "   47  0.5602148  0.4207235\n",
              "   49  0.5620525  0.4225223\n",
              "   51  0.5582736  0.4175064\n",
              "   53  0.5540793  0.4116109\n",
              "   55  0.5559508  0.4134039\n",
              "   57  0.5579903  0.4156733\n",
              "   59  0.5542366  0.4107502\n",
              "   61  0.5492915  0.4038650\n",
              "   63  0.5479548  0.4015241\n",
              "   65  0.5450860  0.3977406\n",
              "   67  0.5450860  0.3972323\n",
              "   69  0.5430994  0.3945265\n",
              "   71  0.5402423  0.3905036\n",
              "   73  0.5359317  0.3846653\n",
              "   75  0.5425893  0.3933881\n",
              "   77  0.5368962  0.3858237\n",
              "   79  0.5374389  0.3868479\n",
              "   81  0.5321854  0.3799079\n",
              "   83  0.5339987  0.3818278\n",
              "   85  0.5307773  0.3775749\n",
              "   87  0.5307235  0.3772158\n",
              "   89  0.5293941  0.3756334\n",
              "   91  0.5257852  0.3705629\n",
              "   93  0.5195128  0.3618082\n",
              "   95  0.5237526  0.3675418\n",
              "   97  0.5242769  0.3679868\n",
              "   99  0.5279856  0.3728771\n",
              "  101  0.5332121  0.3794237\n",
              "  103  0.5360117  0.3828453\n",
              "  105  0.5369346  0.3838884\n",
              "  107  0.5382856  0.3855541\n",
              "  109  0.5392264  0.3865616\n",
              "  111  0.5359496  0.3821186\n",
              "  113  0.5387634  0.3858862\n",
              "  115  0.5407473  0.3884701\n",
              "  117  0.5393959  0.3863724\n",
              "  119  0.5349850  0.3805021\n",
              "  121  0.5335205  0.3784767\n",
              "  123  0.5334957  0.3781128\n",
              "  125  0.5277465  0.3702848\n",
              "  127  0.5306279  0.3741935\n",
              "  129  0.5315692  0.3753068\n",
              "  131  0.5315608  0.3750703\n",
              "  133  0.5292199  0.3712377\n",
              "  135  0.5226292  0.3621384\n",
              "  137  0.5274471  0.3683428\n",
              "  139  0.5217307  0.3603280\n",
              "  141  0.5246110  0.3636425\n",
              "  143  0.5249643  0.3637121\n",
              "  145  0.5231233  0.3609388\n",
              "  147  0.5178508  0.3532701\n",
              "  149  0.5164010  0.3514744\n",
              "  151  0.5125931  0.3462513\n",
              "  153  0.5059121  0.3370307\n",
              "  155  0.5017245  0.3311490\n",
              "  157  0.4993203  0.3281838\n",
              "  159  0.4968723  0.3243675\n",
              "  161  0.4926309  0.3185545\n",
              "  163  0.4921763  0.3175894\n",
              "  165  0.4845995  0.3074551\n",
              "  167  0.4864346  0.3095131\n",
              "  169  0.4839998  0.3061367\n",
              "  171  0.4815540  0.3026957\n",
              "  173  0.4854865  0.3076648\n",
              "  175  0.4811533  0.3019007\n",
              "  177  0.4860082  0.3082217\n",
              "  179  0.4836700  0.3048684\n",
              "  181  0.4822425  0.3024684\n",
              "  183  0.4788262  0.2976456\n",
              "  185  0.4726911  0.2890857\n",
              "  187  0.4698999  0.2850071\n",
              "  189  0.4708966  0.2860954\n",
              "  191  0.4671172  0.2807658\n",
              "  193  0.4670966  0.2804427\n",
              "  195  0.4642701  0.2763812\n",
              "  197  0.4656438  0.2780608\n",
              "  199  0.4651464  0.2768363\n",
              "  201  0.4694195  0.2823877\n",
              "  203  0.4703086  0.2829761\n",
              "\n",
              "Accuracy was used to select the optimal model using the largest value.\n",
              "The final value used for the model was k = 27."
            ]
          },
          "metadata": {},
          "output_type": "display_data"
        },
        {
          "data": {
            "text/plain": [
              "Confusion Matrix and Statistics\n",
              "\n",
              "          Reference\n",
              "Prediction average best good low none\n",
              "   average      17    3   11   5    2\n",
              "   best          0   11    0   0    0\n",
              "   good         12   31   61   0    2\n",
              "   low          15    0    3  14    4\n",
              "   none          0    0    0   6   20\n",
              "\n",
              "Overall Statistics\n",
              "                                          \n",
              "               Accuracy : 0.5668          \n",
              "                 95% CI : (0.4981, 0.6337)\n",
              "    No Information Rate : 0.3456          \n",
              "    P-Value [Acc > NIR] : 2.35e-11        \n",
              "                                          \n",
              "                  Kappa : 0.4229          \n",
              "                                          \n",
              " Mcnemar's Test P-Value : NA              \n",
              "\n",
              "Statistics by Class:\n",
              "\n",
              "                     Class: average Class: best Class: good Class: low\n",
              "Sensitivity                 0.38636     0.24444      0.8133    0.56000\n",
              "Specificity                 0.87861     1.00000      0.6831    0.88542\n",
              "Pos Pred Value              0.44737     1.00000      0.5755    0.38889\n",
              "Neg Pred Value              0.84916     0.83495      0.8739    0.93923\n",
              "Prevalence                  0.20276     0.20737      0.3456    0.11521\n",
              "Detection Rate              0.07834     0.05069      0.2811    0.06452\n",
              "Detection Prevalence        0.17512     0.05069      0.4885    0.16590\n",
              "Balanced Accuracy           0.63249     0.62222      0.7482    0.72271\n",
              "                     Class: none\n",
              "Sensitivity              0.71429\n",
              "Specificity              0.96825\n",
              "Pos Pred Value           0.76923\n",
              "Neg Pred Value           0.95812\n",
              "Prevalence               0.12903\n",
              "Detection Rate           0.09217\n",
              "Detection Prevalence     0.11982\n",
              "Balanced Accuracy        0.84127"
            ]
          },
          "metadata": {},
          "output_type": "display_data"
        },
        {
          "name": "stdout",
          "output_type": "stream",
          "text": [
            "Class: average    Class: best    Class: good     Class: low    Class: none \n",
            "     0.3863636      0.2444444      0.8133333      0.5600000      0.7142857 \n",
            "Class: average    Class: best    Class: good     Class: low    Class: none \n",
            "    0.12138728     0.00000000     0.31690141     0.11458333     0.03174603 \n",
            "Class: average    Class: best    Class: good     Class: low    Class: none \n",
            "     0.4473684      1.0000000      0.5754717      0.3888889      0.7692308 \n",
            "Class: average    Class: best    Class: good     Class: low    Class: none \n",
            "     0.3863636      0.2444444      0.8133333      0.5600000      0.7142857 \n",
            "Class: average    Class: best    Class: good     Class: low    Class: none \n",
            "     0.4146341      0.3928571      0.6740331      0.4590164      0.7407407 \n"
          ]
        },
        {
          "name": "stderr",
          "output_type": "stream",
          "text": [
            "Setting levels: control = 0, case = 1\n",
            "\n",
            "Setting direction: controls > cases\n",
            "\n",
            "Setting levels: control = 0, case = 1\n",
            "\n",
            "Setting direction: controls < cases\n",
            "\n",
            "Setting levels: control = 0, case = 1\n",
            "\n",
            "Setting direction: controls > cases\n",
            "\n",
            "Setting levels: control = 0, case = 1\n",
            "\n",
            "Setting direction: controls < cases\n",
            "\n",
            "Setting levels: control = 0, case = 1\n",
            "\n",
            "Setting direction: controls < cases\n",
            "\n"
          ]
        },
        {
          "name": "stdout",
          "output_type": "stream",
          "text": [
            "[1] 0.4883099 0.8173127 0.6171834 0.7933673 0.7929167\n",
            "[1] 0.2803097 0.4517734 0.4723023 0.3822932 0.7045867\n"
          ]
        },
        {
          "data": {
            "image/png": "[encoded data removed]",
            "text/plain": [
              "plot without title"
            ]
          },
          "metadata": {
            "image/png": {
              "height": 420,
              "width": 420
            }
          },
          "output_type": "display_data"
        }
      ],
      "source": [
        "# Attribute Selection:\n",
        "suppressWarnings({\n",
        "#attr_subset = Feat_Sel_CHI_SQR(train)\n",
        "attr_subset = Feat_Sel_LVQ(train)\n",
        "#attr_subset = Feat_Sel_RFE(train)\n",
        "#attr_subset = Feat_Sel_RFI(train)\n",
        "#attr_subset = Feat_Sel_IG(train)\n",
        "train_KNN = attr_subset\n",
        "train_KNN$class = train$class\n",
        "test_KNN = test[colnames(attr_subset)]\n",
        "test_KNN$class = test$class\n",
        "## KNN\n",
        "knnModel <- train(class ~., data = train_KNN , method = \"knn\",\n",
        "                    trControl=train_control,\n",
        "                    preProcess = c(\"center\", \"scale\"),\n",
        "                    tuneLength = 100)\n",
        "})\n",
        "knnModel\n",
        "plot(knnModel)\n",
        "KNN_test <- predict(knnModel, newdata = test_KNN)\n",
        "perf.mea <- confusionMatrix(KNN_test, test$class)\n",
        "perf.mea\n",
        "TP.rate = perf.mea$byClass[,1] # Sensitivity\n",
        "FP.rate = 1 - perf.mea$byClass[,2] # Specificity\n",
        "Prec = perf.mea$byClass[,3]\n",
        "Recall = TP.rate\n",
        "F.meas = 2 * (Prec * Recall) / (Prec + Recall)\n",
        "print(TP.rate)\n",
        "print(FP.rate)\n",
        "print(Prec)\n",
        "print(Recall)\n",
        "print(F.meas)\n",
        "print(ROC(knnModel, test_KNN))\n",
        "print(MCC_List(perf.mea))"
      ]
    },
    {
      "cell_type": "markdown",
      "metadata": {
        "id": "R_lobXnfdlme"
      },
      "source": [
        "#J48 Model\n"
      ]
    },
    {
      "cell_type": "code",
      "execution_count": null,
      "metadata": {
        "id": "XTxkoBX4dq7c"
      },
      "outputs": [],
      "source": [
        "set.seed(699)\n",
        "# Attribute Selection:\n",
        "#attr_subset = Feat_Sel_CHI_SQR(train)\n",
        "attr_subset = Feat_Sel_LVQ(train)\n",
        "#attr_subset = Feat_Sel_RFE(train)\n",
        "#attr_subset = Feat_Sel_RFI(train)\n",
        "#attr_subset = Feat_Sel_IG(train)\n",
        "train_j48 = attr_subset\n",
        "train_j48$class = train$class\n",
        "test_j48 = test[colnames(attr_subset)]\n",
        "test_j48$class = test$class\n",
        "train_control <- trainControl(method = \"repeatedcv\", number = 10, repeats = 5,\n",
        "                              summaryFunction = defaultSummary)\n",
        "J48Grid <-  expand.grid(C = c(0.01, 0.25, 0.5), M = (1:4))\n",
        "model_j48 <- train(class ~ ., data = train_j48 , method = \"J48\", trControl = train_control, tuneGrid = J48Grid)\n",
        "model_j48\n",
        "plot(model_j48)\n",
        "J48_test <- predict(model_j48, newdata = test_j48)\n",
        "perf.mea <- confusionMatrix(J48_test, test$class)\n",
        "perf.mea\n",
        "TP.rate = perf.mea$byClass[,1] # Sensitivity\n",
        "FP.rate = 1 - perf.mea$byClass[,2] # Specificity\n",
        "Prec = perf.mea$byClass[,3]\n",
        "Recall = TP.rate\n",
        "F.meas = 2 * (Prec * Recall) / (Prec + Recall)\n",
        "print(TP.rate)\n",
        "print(FP.rate)\n",
        "print(Prec)\n",
        "print(Recall)\n",
        "print(F.meas)\n",
        "print(ROC(model_j48, test_j48))\n",
        "print(MCC_List(perf.mea))"
      ]
    },
    {
      "cell_type": "markdown",
      "metadata": {
        "id": "cj3obgeClMC2"
      },
      "source": [
        "#rpart Decision Tree Model"
      ]
    },
    {
      "cell_type": "code",
      "execution_count": null,
      "metadata": {
        "colab": {
          "base_uri": "https://localhost:8080/",
          "height": 1000
        },
        "id": "fGa63F3xki1g",
        "outputId": "e52265ad-88bf-44b0-cbb6-6da0dc8f9739"
      },
      "outputs": [
        {
          "data": {
            "text/html": [
              "<table class=\"dataframe\">\n",
              "<caption>A data.frame: 1 × 6</caption>\n",
              "<thead>\n",
              "\t<tr><th></th><th scope=col>model</th><th scope=col>parameter</th><th scope=col>label</th><th scope=col>forReg</th><th scope=col>forClass</th><th scope=col>probModel</th></tr>\n",
              "\t<tr><th></th><th scope=col>&lt;chr&gt;</th><th scope=col>&lt;chr&gt;</th><th scope=col>&lt;chr&gt;</th><th scope=col>&lt;lgl&gt;</th><th scope=col>&lt;lgl&gt;</th><th scope=col>&lt;lgl&gt;</th></tr>\n",
              "</thead>\n",
              "<tbody>\n",
              "\t<tr><th scope=row>1</th><td>rpart</td><td>cp</td><td>Complexity Parameter</td><td>TRUE</td><td>TRUE</td><td>TRUE</td></tr>\n",
              "</tbody>\n",
              "</table>\n"
            ],
            "text/latex": "A data.frame: 1 × 6\n\\begin{tabular}{r|llllll}\n  & model & parameter & label & forReg & forClass & probModel\\\\\n  & <chr> & <chr> & <chr> & <lgl> & <lgl> & <lgl>\\\\\n\\hline\n\t1 & rpart & cp & Complexity Parameter & TRUE & TRUE & TRUE\\\\\n\\end{tabular}\n",
            "text/markdown": "\nA data.frame: 1 × 6\n\n| <!--/--> | model &lt;chr&gt; | parameter &lt;chr&gt; | label &lt;chr&gt; | forReg &lt;lgl&gt; | forClass &lt;lgl&gt; | probModel &lt;lgl&gt; |\n|---|---|---|---|---|---|---|\n| 1 | rpart | cp | Complexity Parameter | TRUE | TRUE | TRUE |\n\n",
            "text/plain": [
              "  model parameter label                forReg forClass probModel\n",
              "1 rpart cp        Complexity Parameter TRUE   TRUE     TRUE     "
            ]
          },
          "metadata": {},
          "output_type": "display_data"
        },
        {
          "data": {
            "text/plain": [
              "CART \n",
              "\n",
              "421 samples\n",
              "  5 predictor\n",
              "  5 classes: 'average', 'best', 'good', 'low', 'none' \n",
              "\n",
              "No pre-processing\n",
              "Resampling: Cross-Validated (10 fold, repeated 5 times) \n",
              "Summary of sample sizes: 379, 378, 380, 379, 377, 380, ... \n",
              "Resampling results across tuning parameters:\n",
              "\n",
              "  cp           Accuracy   Kappa    \n",
              "  0.006825939  0.5394101  0.3999522\n",
              "  0.007963595  0.5365092  0.3955316\n",
              "  0.008191126  0.5365092  0.3955316\n",
              "  0.008532423  0.5365092  0.3955316\n",
              "  0.013651877  0.5254690  0.3817661\n",
              "  0.020477816  0.5150422  0.3651193\n",
              "  0.027303754  0.4955087  0.3322025\n",
              "  0.030716724  0.4932814  0.3219662\n",
              "  0.109215017  0.4521907  0.2492944\n",
              "  0.204778157  0.4052999  0.1717331\n",
              "\n",
              "Accuracy was used to select the optimal model using the largest value.\n",
              "The final value used for the model was cp = 0.006825939."
            ]
          },
          "metadata": {},
          "output_type": "display_data"
        },
        {
          "data": {
            "text/plain": [
              "Confusion Matrix and Statistics\n",
              "\n",
              "          Reference\n",
              "Prediction average best good low none\n",
              "   average      16    1    7   5    0\n",
              "   best          2    9    9   0    0\n",
              "   good         17   32   54   2    3\n",
              "   low           9    0    3  10    3\n",
              "   none          0    3    2   8   22\n",
              "\n",
              "Overall Statistics\n",
              "                                          \n",
              "               Accuracy : 0.5115          \n",
              "                 95% CI : (0.4429, 0.5798)\n",
              "    No Information Rate : 0.3456          \n",
              "    P-Value [Acc > NIR] : 3.874e-07       \n",
              "                                          \n",
              "                  Kappa : 0.3467          \n",
              "                                          \n",
              " Mcnemar's Test P-Value : NA              \n",
              "\n",
              "Statistics by Class:\n",
              "\n",
              "                     Class: average Class: best Class: good Class: low\n",
              "Sensitivity                 0.36364     0.20000      0.7200    0.40000\n",
              "Specificity                 0.92486     0.93605      0.6197    0.92188\n",
              "Pos Pred Value              0.55172     0.45000      0.5000    0.40000\n",
              "Neg Pred Value              0.85106     0.81726      0.8073    0.92188\n",
              "Prevalence                  0.20276     0.20737      0.3456    0.11521\n",
              "Detection Rate              0.07373     0.04147      0.2488    0.04608\n",
              "Detection Prevalence        0.13364     0.09217      0.4977    0.11521\n",
              "Balanced Accuracy           0.64425     0.56802      0.6699    0.66094\n",
              "                     Class: none\n",
              "Sensitivity               0.7857\n",
              "Specificity               0.9312\n",
              "Pos Pred Value            0.6286\n",
              "Neg Pred Value            0.9670\n",
              "Prevalence                0.1290\n",
              "Detection Rate            0.1014\n",
              "Detection Prevalence      0.1613\n",
              "Balanced Accuracy         0.8585"
            ]
          },
          "metadata": {},
          "output_type": "display_data"
        },
        {
          "name": "stdout",
          "output_type": "stream",
          "text": [
            "Class: average    Class: best    Class: good     Class: low    Class: none \n",
            "     0.3636364      0.2000000      0.7200000      0.4000000      0.7857143 \n",
            "Class: average    Class: best    Class: good     Class: low    Class: none \n",
            "    0.07514451     0.06395349     0.38028169     0.07812500     0.06878307 \n",
            "Class: average    Class: best    Class: good     Class: low    Class: none \n",
            "     0.5517241      0.4500000      0.5000000      0.4000000      0.6285714 \n",
            "Class: average    Class: best    Class: good     Class: low    Class: none \n",
            "     0.3636364      0.2000000      0.7200000      0.4000000      0.7857143 \n",
            "Class: average    Class: best    Class: good     Class: low    Class: none \n",
            "     0.4383562      0.2769231      0.5901639      0.4000000      0.6984127 \n"
          ]
        },
        {
          "name": "stderr",
          "output_type": "stream",
          "text": [
            "Setting levels: control = 0, case = 1\n",
            "\n",
            "Setting direction: controls < cases\n",
            "\n",
            "Setting levels: control = 0, case = 1\n",
            "\n",
            "Setting direction: controls < cases\n",
            "\n",
            "Setting levels: control = 0, case = 1\n",
            "\n",
            "Setting direction: controls > cases\n",
            "\n",
            "Setting levels: control = 0, case = 1\n",
            "\n",
            "Setting direction: controls < cases\n",
            "\n",
            "Setting levels: control = 0, case = 1\n",
            "\n",
            "Setting direction: controls < cases\n",
            "\n"
          ]
        },
        {
          "name": "stdout",
          "output_type": "stream",
          "text": [
            "[1] 0.5625352 0.7801680 0.5592486 0.7020975 0.7283333\n",
            "[1] 0.3408827 0.1906820 0.3231236 0.3218750 0.6534580\n"
          ]
        },
        {
          "data": {
            "image/png": "[encoded data removed]",
            "text/plain": [
              "plot without title"
            ]
          },
          "metadata": {
            "image/png": {
              "height": 420,
              "width": 420
            }
          },
          "output_type": "display_data"
        }
      ],
      "source": [
        "set.seed(699)\n",
        "# Attribute Selection:\n",
        "#attr_subset = Feat_Sel_CHI_SQR(train)\n",
        "#attr_subset = Feat_Sel_LVQ(train)\n",
        "#attr_subset = Feat_Sel_RFE(train)\n",
        "#attr_subset = Feat_Sel_RFI(train\n",
        "attr_subset = Feat_Sel_IG(train)\n",
        "train_rpart = attr_subset\n",
        "train_rpart$class = train$class\n",
        "test_rpart = test[colnames(attr_subset)]\n",
        "test_rpart$class = test$class\n",
        "modelLookup(\"rpart\")\n",
        "model_rpart <- train(class ~ ., data = train_rpart, method = \"rpart\", trControl = train_control,\n",
        "                     tuneLength = 10)\n",
        "model_rpart\n",
        "plot(model_rpart)\n",
        "rpart_test <- predict(model_rpart, newdata = test_rpart)\n",
        "perf.mea <- confusionMatrix(rpart_test, test$class)\n",
        "perf.mea\n",
        "TP.rate = perf.mea$byClass[,1] # Sensitivity\n",
        "FP.rate = 1 - perf.mea$byClass[,2] # Specificity\n",
        "Prec = perf.mea$byClass[,3]\n",
        "Recall = TP.rate\n",
        "F.meas = 2 * (Prec * Recall) / (Prec + Recall)\n",
        "print(TP.rate)\n",
        "print(FP.rate)\n",
        "print(Prec)\n",
        "print(Recall)\n",
        "print(F.meas)\n",
        "print(ROC(model_rpart, test_rpart))\n",
        "print(MCC_List(perf.mea))"
      ]
    },
    {
      "cell_type": "markdown",
      "metadata": {
        "id": "XVQKTWOS6zL_"
      },
      "source": [
        "#Neural Network\n"
      ]
    },
    {
      "cell_type": "code",
      "execution_count": null,
      "metadata": {
        "colab": {
          "base_uri": "https://localhost:8080/",
          "height": 1000
        },
        "id": "dDzxLzE_26Mh",
        "outputId": "7e386b00-3ac2-4882-91e0-f1ff63c2275a"
      },
      "outputs": [
        {
          "data": {
            "text/plain": [
              "Neural Network \n",
              "\n",
              "421 samples\n",
              "  4 predictor\n",
              "  5 classes: 'average', 'best', 'good', 'low', 'none' \n",
              "\n",
              "Pre-processing: centered (4), scaled (4) \n",
              "Resampling: Cross-Validated (10 fold, repeated 5 times) \n",
              "Summary of sample sizes: 379, 379, 379, 377, 379, 379, ... \n",
              "Resampling results across tuning parameters:\n",
              "\n",
              "  size  decay  Accuracy   Kappa    \n",
              "   1    0.0    0.5664489  0.4360991\n",
              "   1    0.1    0.5360454  0.3826431\n",
              "   1    1.0    0.4580085  0.2707281\n",
              "   1    2.0    0.4513117  0.2585911\n",
              "   2    0.0    0.5665129  0.4392873\n",
              "   2    0.1    0.5666368  0.4282370\n",
              "   2    1.0    0.5475837  0.3992000\n",
              "   2    2.0    0.4911616  0.3158617\n",
              "   3    0.0    0.5627362  0.4340994\n",
              "   3    0.1    0.5869615  0.4639887\n",
              "   3    1.0    0.5541241  0.4083624\n",
              "   3    2.0    0.5014929  0.3311581\n",
              "   4    0.0    0.5612427  0.4320686\n",
              "   4    0.1    0.5855177  0.4633861\n",
              "   4    1.0    0.5570394  0.4128112\n",
              "   4    2.0    0.5048727  0.3358151\n",
              "   5    0.0    0.5631210  0.4335766\n",
              "   5    0.1    0.5851211  0.4641931\n",
              "   5    1.0    0.5607856  0.4182921\n",
              "   5    2.0    0.5059014  0.3372919\n",
              "   6    0.0    0.5631125  0.4358010\n",
              "   6    0.1    0.5764863  0.4527626\n",
              "   6    1.0    0.5655633  0.4252244\n",
              "   6    2.0    0.5086164  0.3412666\n",
              "   7    0.0    0.5428629  0.4091330\n",
              "   7    0.1    0.5789274  0.4563412\n",
              "   7    1.0    0.5606998  0.4193392\n",
              "   7    2.0    0.5137905  0.3485832\n",
              "   8    0.0    0.5430951  0.4101989\n",
              "   8    0.1    0.5760323  0.4527071\n",
              "   8    1.0    0.5625586  0.4219120\n",
              "   8    2.0    0.5185763  0.3553069\n",
              "   9    0.0    0.5450488  0.4148335\n",
              "   9    0.1    0.5755798  0.4520238\n",
              "   9    1.0    0.5635681  0.4235619\n",
              "   9    2.0    0.5223795  0.3605033\n",
              "  10    0.0    0.5449987  0.4133914\n",
              "  10    0.1    0.5654703  0.4379839\n",
              "  10    1.0    0.5659485  0.4272213\n",
              "  10    2.0    0.5238197  0.3626609\n",
              "\n",
              "Accuracy was used to select the optimal model using the largest value.\n",
              "The final values used for the model were size = 3 and decay = 0.1."
            ]
          },
          "metadata": {},
          "output_type": "display_data"
        },
        {
          "data": {
            "text/plain": [
              "Confusion Matrix and Statistics\n",
              "\n",
              "          Reference\n",
              "Prediction average best good low none\n",
              "   average      12    3    9   3    2\n",
              "   best          0   15    5   0    0\n",
              "   good         17   27   59   1    0\n",
              "   low          15    0    2  15    6\n",
              "   none          0    0    0   6   20\n",
              "\n",
              "Overall Statistics\n",
              "                                          \n",
              "               Accuracy : 0.5576          \n",
              "                 95% CI : (0.4888, 0.6248)\n",
              "    No Information Rate : 0.3456          \n",
              "    P-Value [Acc > NIR] : 1.421e-10       \n",
              "                                          \n",
              "                  Kappa : 0.4121          \n",
              "                                          \n",
              " Mcnemar's Test P-Value : NA              \n",
              "\n",
              "Statistics by Class:\n",
              "\n",
              "                     Class: average Class: best Class: good Class: low\n",
              "Sensitivity                  0.2727     0.33333      0.7867    0.60000\n",
              "Specificity                  0.9017     0.97093      0.6831    0.88021\n",
              "Pos Pred Value               0.4138     0.75000      0.5673    0.39474\n",
              "Neg Pred Value               0.8298     0.84772      0.8584    0.94413\n",
              "Prevalence                   0.2028     0.20737      0.3456    0.11521\n",
              "Detection Rate               0.0553     0.06912      0.2719    0.06912\n",
              "Detection Prevalence         0.1336     0.09217      0.4793    0.17512\n",
              "Balanced Accuracy            0.5872     0.65213      0.7349    0.74010\n",
              "                     Class: none\n",
              "Sensitivity              0.71429\n",
              "Specificity              0.96825\n",
              "Pos Pred Value           0.76923\n",
              "Neg Pred Value           0.95812\n",
              "Prevalence               0.12903\n",
              "Detection Rate           0.09217\n",
              "Detection Prevalence     0.11982\n",
              "Balanced Accuracy        0.84127"
            ]
          },
          "metadata": {},
          "output_type": "display_data"
        },
        {
          "name": "stdout",
          "output_type": "stream",
          "text": [
            "Class: average    Class: best    Class: good     Class: low    Class: none \n",
            "     0.2727273      0.3333333      0.7866667      0.6000000      0.7142857 \n",
            "Class: average    Class: best    Class: good     Class: low    Class: none \n",
            "    0.09826590     0.02906977     0.31690141     0.11979167     0.03174603 \n",
            "Class: average    Class: best    Class: good     Class: low    Class: none \n",
            "     0.4137931      0.7500000      0.5673077      0.3947368      0.7692308 \n",
            "Class: average    Class: best    Class: good     Class: low    Class: none \n",
            "     0.2727273      0.3333333      0.7866667      0.6000000      0.7142857 \n",
            "Class: average    Class: best    Class: good     Class: low    Class: none \n",
            "     0.3287671      0.4615385      0.6592179      0.4761905      0.7407407 \n"
          ]
        },
        {
          "name": "stderr",
          "output_type": "stream",
          "text": [
            "Setting levels: control = 0, case = 1\n",
            "\n",
            "Setting direction: controls < cases\n",
            "\n",
            "Setting levels: control = 0, case = 1\n",
            "\n",
            "Setting direction: controls < cases\n",
            "\n",
            "Setting levels: control = 0, case = 1\n",
            "\n",
            "Setting direction: controls > cases\n",
            "\n",
            "Setting levels: control = 0, case = 1\n",
            "\n",
            "Setting direction: controls < cases\n",
            "\n",
            "Setting levels: control = 0, case = 1\n",
            "\n",
            "Setting direction: controls < cases\n",
            "\n"
          ]
        },
        {
          "data": {
            "text/html": [
              "<style>\n",
              ".list-inline {list-style: none; margin:0; padding: 0}\n",
              ".list-inline>li {display: inline-block}\n",
              ".list-inline>li:not(:last-child)::after {content: \"\\00b7\"; padding: 0 .5ex}\n",
              "</style>\n",
              "<ol class=list-inline><li>0.538967136150235</li><li>0.82687338501292</li><li>0.548870204939569</li><li>0.769463340891912</li><li>0.835208333333333</li></ol>\n"
            ],
            "text/latex": "\\begin{enumerate*}\n\\item 0.538967136150235\n\\item 0.82687338501292\n\\item 0.548870204939569\n\\item 0.769463340891912\n\\item 0.835208333333333\n\\end{enumerate*}\n",
            "text/markdown": "1. 0.538967136150235\n2. 0.82687338501292\n3. 0.548870204939569\n4. 0.769463340891912\n5. 0.835208333333333\n\n\n",
            "text/plain": [
              "[1] 0.5389671 0.8268734 0.5488702 0.7694633 0.8352083"
            ]
          },
          "metadata": {},
          "output_type": "display_data"
        },
        {
          "data": {
            "text/html": [
              "<style>\n",
              ".list-inline {list-style: none; margin:0; padding: 0}\n",
              ".list-inline>li {display: inline-block}\n",
              ".list-inline>li:not(:last-child)::after {content: \"\\00b7\"; padding: 0 .5ex}\n",
              "</style>\n",
              "<ol class=list-inline><li>0.20614402982771</li><li>0.426454125595195</li><li>0.447197953677322</li><li>0.403396380574771</li><li>0.704586740934051</li></ol>\n"
            ],
            "text/latex": "\\begin{enumerate*}\n\\item 0.20614402982771\n\\item 0.426454125595195\n\\item 0.447197953677322\n\\item 0.403396380574771\n\\item 0.704586740934051\n\\end{enumerate*}\n",
            "text/markdown": "1. 0.20614402982771\n2. 0.426454125595195\n3. 0.447197953677322\n4. 0.403396380574771\n5. 0.704586740934051\n\n\n",
            "text/plain": [
              "[1] 0.2061440 0.4264541 0.4471980 0.4033964 0.7045867"
            ]
          },
          "metadata": {},
          "output_type": "display_data"
        },
        {
          "data": {
            "image/png": "[encoded data removed]",
            "text/plain": [
              "plot without title"
            ]
          },
          "metadata": {
            "image/png": {
              "height": 420,
              "width": 420
            }
          },
          "output_type": "display_data"
        }
      ],
      "source": [
        "set.seed(699)\n",
        "suppressWarnings({\n",
        "#attr_subset = Feat_Sel_CHI_SQR(train)\n",
        "attr_subset = Feat_Sel_LVQ(train)\n",
        "#attr_subset = Feat_Sel_RFE(train)\n",
        "#attr_subset = Feat_Sel_RFI(train)\n",
        "#attr_subset = Feat_Sel_IG(train)\n",
        "train_nnet = attr_subset\n",
        "train_nnet$class = train$class\n",
        "test_nnet = test[colnames(attr_subset)]\n",
        "test_nnet$class = test$class\n",
        "nnetGrid <- expand.grid(size = 1:10, decay = c(0, .1, 1, 2))\n",
        "set.seed(31)\n",
        "model_nnet <- train(class ~ ., data = train_nnet,\n",
        "                 method = \"nnet\",\n",
        "                 preProc = c(\"center\", \"scale\"),\n",
        "                 tuneGrid = nnetGrid,\n",
        "                 trace = FALSE,\n",
        "                 maxit = 100,\n",
        "                 MaxNWts = 1000,\n",
        "                 trControl = train_control)\n",
        "model_nnet\n",
        "})\n",
        "plot(model_nnet)\n",
        "nnet_test <- predict(model_nnet, test_nnet)\n",
        "perf.mea <- confusionMatrix(nnet_test, test$class)\n",
        "perf.mea\n",
        "TP.rate = perf.mea$byClass[,1] # Sensitivity\n",
        "FP.rate = 1 - perf.mea$byClass[,2] # Specificity\n",
        "Prec = perf.mea$byClass[,3]\n",
        "Recall = TP.rate\n",
        "F.meas = 2 * (Prec * Recall) / (Prec + Recall)\n",
        "print(TP.rate)\n",
        "print(FP.rate)\n",
        "print(Prec)\n",
        "print(Recall)\n",
        "print(F.meas)\n",
        "ROC(model_nnet, test_nnet)\n",
        "MCC_List(perf.mea)"
      ]
    }
  ],
  "metadata": {
    "colab": {
      "collapsed_sections": [
        "27VNc3h09kxG",
        "oP6FqTABKi-3",
        "CuUcL6dE9vUg",
        "bC5MJoxY9_6T",
        "1rBtK5VpIQfz",
        "TO62n9iq-bcB",
        "0JTgENvt-kVQ",
        "36SKNSEkGb1E",
        "4gBqWsxLyM6C",
        "5toJXYnr-t-r",
        "5lt848GEVHNt",
        "R_lobXnfdlme",
        "cj3obgeClMC2",
        "XVQKTWOS6zL_"
      ],
      "provenance": [],
      "include_colab_link": true
    },
    "gpuClass": "standard",
    "kernelspec": {
      "display_name": "R",
      "name": "ir"
    },
    "language_info": {
      "name": "R"
    }
  },
  "nbformat": 4,
  "nbformat_minor": 0
}